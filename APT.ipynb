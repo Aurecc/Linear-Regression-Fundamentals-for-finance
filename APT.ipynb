{
  "nbformat": 4,
  "nbformat_minor": 0,
  "metadata": {
    "colab": {
      "provenance": [],
      "authorship_tag": "ABX9TyMASfTqwgrdn+lsGWPorkvF"
    },
    "kernelspec": {
      "name": "python3",
      "display_name": "Python 3"
    },
    "language_info": {
      "name": "python"
    }
  },
  "cells": [
    {
      "cell_type": "markdown",
      "source": [
        "# Arbitrage Pricing Theory\n",
        "\n",
        "Arbitrage Pricing Theory (APT) is a theory of asset pricing. It asserts that the expected return of an asset can be expressed as a linear function of multiple systematic risk factors priced by the market. APT was introduced in 1976 by Stephen Ross and is based on arbitrage arguments.\n",
        "\n",
        "APT was developed as an alternative to single-factor pricing models such as the Capital Asset Pricing Model (CAPM). These single-factor models do not explicitly explain the cross-section of expected asset returns.\n",
        "\n",
        "According to APT, multiple factors can be used to explain the expected rate of return on a risky asset. These include:\n",
        "\n",
        "- Oil and energy prices\n",
        "- Central Bank interest rates\n",
        "- Consumer Price Index (CPI)\n",
        "\n",
        "The following equation explains the expected return of an asset or portfolio given certain factors:\n",
        "\n",
        "$R_a = R_f + \\beta_{1}λ_1+\\beta_2λ_2+...+\\beta_kλ_k$\n",
        "\n",
        "Where:\n",
        "- $R_a$: Expected return of an asset or portfolio.\n",
        "- $R_f$: Risk-free rate return, usually the return of an AAA Treasury Bond\n",
        "- $\\beta$: Sensitivity for asset relative to factor k.\n",
        "- $λ$: Risk premium relative to factor k."
      ],
      "metadata": {
        "id": "dfRfMsl1lC-X"
      }
    },
    {
      "cell_type": "markdown",
      "source": [
        "## Project Overview\n",
        "\n",
        "This project focuses on applying an APT model to FedEx stocks and predicting their future returns using related factors such as Brent oil prices, market returns, interest rates, CPI, and others.\n",
        "\n",
        "The primary objectives include:\n",
        "\n",
        "- Model Fitting: Construct an APT model using historical stock, market, and macroeconomic data.\n",
        "- Implementation from scratch: Perform all calculations manually to deepen our understanding of the underlying concepts.\n",
        "\n",
        "- Evaluation: Assess the fit of the model and determine which factors are significant and are to be included in the final model.\n",
        "\n"
      ],
      "metadata": {
        "id": "7AzNKHodpbqw"
      }
    },
    {
      "cell_type": "code",
      "execution_count": null,
      "metadata": {
        "id": "Ez5qMvahMpoR"
      },
      "outputs": [],
      "source": [
        "# Importing libraries\n",
        "import requests\n",
        "from google.colab import userdata\n",
        "import pandas as pd\n",
        "import numpy as np\n",
        "from scipy import stats\n",
        "import matplotlib.pyplot as plt\n",
        "import seaborn as sns"
      ]
    },
    {
      "cell_type": "markdown",
      "source": [
        "## API calls and data preprocessing"
      ],
      "metadata": {
        "id": "3k1nswririgz"
      }
    },
    {
      "cell_type": "code",
      "source": [
        "# Insert your API Key\n",
        "API_KEY = userdata.get('API_KEY_AV')"
      ],
      "metadata": {
        "id": "-ZUYIsHkNKm5"
      },
      "execution_count": null,
      "outputs": []
    },
    {
      "cell_type": "code",
      "source": [
        "# Functions returning JSON format output from the API calls\n",
        "\n",
        "def get_asset_data(API_KEY, function, symbol, outputsize='full'):\n",
        "  url = f'https://www.alphavantage.co/query?function={function}&outputsize={outputsize}&symbol={symbol}&interval=5min&apikey={API_KEY}'\n",
        "  response = requests.get(url)\n",
        "  data = response.json()\n",
        "  return data\n",
        "\n",
        "def get_risk_free_rate(API_KEY,function='TREASURY_YIELD',interval='daily', maturity= '10year'):\n",
        "  url = f'https://www.alphavantage.co/query?function={function}&interval={interval}&maturity={maturity}&apikey={API_KEY}'\n",
        "  response = requests.get(url)\n",
        "  data = response.json()\n",
        "  return data\n",
        "def get_fed_rates(API_KEY, function='FEDERAL_FUNDS_RATE', interval='daily' ):\n",
        "  url = f'https://www.alphavantage.co/query?function={function}&interval={interval}&apikey={API_KEY}'\n",
        "  response = requests.get(url)\n",
        "  data = response.json()\n",
        "  return data\n",
        "\n",
        "def get_oil_data(API_KEY,oil_type,interval='daily'):\n",
        "    url = f'https://www.alphavantage.co/query?function={oil_type}&interval={interval}&apikey={API_KEY}'\n",
        "    response = requests.get(url)\n",
        "    data = response.json()\n",
        "    return data\n",
        "\n",
        "def get_durables(API_KEY, function='DURABLES'):\n",
        "    url = f'https://www.alphavantage.co/query?function={function}&apikey={API_KEY}'\n",
        "    response = requests.get(url)\n",
        "    data = response.json()\n",
        "    return data\n",
        "\n",
        "def get_retail_sales(API_KEY, function='RETAIL_SALES'):\n",
        "    url = f'https://www.alphavantage.co/query?function={function}&apikey={API_KEY}'\n",
        "    response = requests.get(url)\n",
        "    data = response.json()\n",
        "    return data\n",
        "\n",
        "def get_cpi(API_KEY, function='CPI', interval='monthly'):\n",
        "    url = f'https://www.alphavantage.co/query?function={function}&interval={interval}&apikey={API_KEY}'\n",
        "    response = requests.get(url)\n",
        "    data = response.json()\n",
        "    return data\n",
        "\n",
        "def get_unemployment_rate(API_KEY,function='UNEMPLOYMENT',interval='monthly'):\n",
        "    url = f'https://www.alphavantage.co/query?function={function}&apikey={API_KEY}'\n",
        "    response = requests.get(url)\n",
        "    data = response.json()\n",
        "    return data"
      ],
      "metadata": {
        "id": "lG4rjb4wM7yS"
      },
      "execution_count": null,
      "outputs": []
    },
    {
      "cell_type": "code",
      "source": [
        "# Returns a DataFrame from the previous JSON of each API call.\n",
        "\n",
        "def data_asset_to_df(API_KEY, asset, market):\n",
        "    data_asset = get_asset_data(API_KEY,'TIME_SERIES_DAILY',asset)\n",
        "    market_data = get_asset_data(API_KEY,'TIME_SERIES_DAILY',market)\n",
        "    df_asset = pd.DataFrame(data_asset['Time Series (Daily)']).T.sort_index()['4. close'].reset_index().rename(columns={'index':'date', '4. close': asset})\n",
        "    df_market = pd.DataFrame(market_data['Time Series (Daily)']).T.sort_index()['4. close'].reset_index().rename(columns={'index':'date', '4. close':market})\n",
        "    df = df_asset.merge(df_market)\n",
        "    return df\n",
        "\n",
        "def treasury_yields(API_KEY):\n",
        "    data = get_risk_free_rate(API_KEY)\n",
        "    df = pd.DataFrame(data['data']).sort_values(by='date').rename(columns={'value': 'RiskFreeRate'})\n",
        "    return df\n",
        "\n",
        "def fed_rates(API_KEY):\n",
        "  data = get_fed_rates(API_KEY)\n",
        "  df = pd.DataFrame(data['data']).sort_values(by='date').rename(columns={'value':'FED_INTEREST_RATE'})\n",
        "  return df\n",
        "\n",
        "def oil_data_to_df(API_KEY, oil_type):\n",
        "    data = get_oil_data(API_KEY,oil_type)\n",
        "    df = pd.DataFrame(data['data'][::-1]).rename(columns={'value':oil_type})\n",
        "    return df\n",
        "\n",
        "def durables_to_df(API_KEY):\n",
        "    data = get_durables(API_KEY)\n",
        "    df = pd.DataFrame(data['data'][::-1]).rename(columns={'value': 'DURABLES'})\n",
        "    return df\n",
        "\n",
        "def retails_to_df(API_KEY):\n",
        "    data = get_retail_sales(API_KEY)\n",
        "    df = pd.DataFrame(data['data'][::-1]).rename(columns={'value': 'RETAILS SALES'})\n",
        "    return df\n",
        "\n",
        "def cpi_to_df(API_KEY):\n",
        "    data = get_cpi(API_KEY)\n",
        "    df = pd.DataFrame(data['data'][::-1]).rename(columns={'value': 'CPI'})\n",
        "    return df\n",
        "\n",
        "def unemployment_to_df(API_KEY):\n",
        "    data = get_unemployment_rate(API_KEY)\n",
        "    df = pd.DataFrame(data['data'][::-1]).rename(columns={'value': 'UNEMPLOYMENT'})\n",
        "    return df"
      ],
      "metadata": {
        "id": "8IhzsogFgoj7"
      },
      "execution_count": null,
      "outputs": []
    },
    {
      "cell_type": "code",
      "source": [
        "# Get all necessary dataframes for the analysis\n",
        "df1 = data_asset_to_df(API_KEY, 'FDX', 'SPY')\n",
        "df2 = treasury_yields(API_KEY)\n",
        "df3 = fed_rates(API_KEY)\n",
        "df4 = oil_data_to_df(API_KEY, 'BRENT')\n",
        "df5 = durables_to_df(API_KEY)\n",
        "df6 = retails_to_df(API_KEY)\n",
        "df7 = cpi_to_df(API_KEY)\n",
        "df8 = unemployment_to_df(API_KEY)"
      ],
      "metadata": {
        "id": "ZV-TvhjcxYLp"
      },
      "execution_count": null,
      "outputs": []
    },
    {
      "cell_type": "code",
      "source": [
        "# Combine all dataframes and transform the data to reflect the percentage changes of every indicator\n",
        "df = df1.merge(df2).merge(df3).merge(df4).merge(df5, how='left').merge(df6,how='left').merge(df7, how='left').merge(df8,how='left')\n",
        "\n",
        "for column in df.columns:\n",
        "  if column == 'date':\n",
        "    df[column] = pd.to_datetime(df[column])\n",
        "  else:\n",
        "    df[column] = df[column].apply(lambda x: np.nan if x == '.' else x)\n",
        "    df[column] = pd.to_numeric(df[column]).interpolate()\n",
        "    if column == 'RiskFreeRate':\n",
        "      df[column] = ((1 + df[column] / 100) ** (1/252) -1)\n",
        "    else:\n",
        "      df[column] = pd.to_numeric(df[column]).pct_change()\n",
        "df = df.dropna()"
      ],
      "metadata": {
        "id": "QtSerrwubB6T"
      },
      "execution_count": null,
      "outputs": []
    },
    {
      "cell_type": "code",
      "source": [
        "df.describe()"
      ],
      "metadata": {
        "id": "Hm5fqK-TD_Yl",
        "colab": {
          "base_uri": "https://localhost:8080/",
          "height": 300
        },
        "outputId": "611ceaa1-4d78-4f2b-8643-7317d8f502fe"
      },
      "execution_count": null,
      "outputs": [
        {
          "output_type": "execute_result",
          "data": {
            "text/plain": [
              "                                date          FDX          SPY  RiskFreeRate  \\\n",
              "count                           6497  6497.000000  6497.000000   6497.000000   \n",
              "mean   2012-10-01 02:13:25.664152576     0.000462     0.000314      0.000130   \n",
              "min              1999-11-02 00:00:00    -0.214038    -0.109424      0.000021   \n",
              "25%              2006-04-20 00:00:00    -0.009404    -0.004829      0.000088   \n",
              "50%              2012-09-28 00:00:00     0.000207     0.000633      0.000133   \n",
              "75%              2019-03-18 00:00:00     0.010110     0.005994      0.000168   \n",
              "max              2025-09-02 00:00:00     0.155277     0.145198      0.000261   \n",
              "std                              NaN     0.020052     0.012267      0.000051   \n",
              "\n",
              "       FED_INTEREST_RATE        BRENT     DURABLES  RETAILS SALES  \\\n",
              "count        6497.000000  6497.000000  6497.000000    6497.000000   \n",
              "mean            0.003624     0.000516     0.000074       0.000160   \n",
              "min            -0.772727    -0.474654    -0.014479      -0.007953   \n",
              "25%             0.000000    -0.011461    -0.002376      -0.001452   \n",
              "50%             0.000000     0.000796    -0.000399       0.000093   \n",
              "75%             0.000000     0.012762     0.002131       0.001180   \n",
              "max             3.125000     0.509868     0.012806       0.014796   \n",
              "std             0.096283     0.025829     0.003738       0.003269   \n",
              "\n",
              "               CPI  UNEMPLOYMENT  \n",
              "count  6497.000000   6497.000000  \n",
              "mean      0.000100      0.000010  \n",
              "min      -0.000718     -0.009901  \n",
              "25%       0.000008     -0.000784  \n",
              "50%       0.000088      0.000000  \n",
              "75%       0.000202      0.000551  \n",
              "max       0.000703      0.030205  \n",
              "std       0.000164      0.002345  "
            ],
            "text/html": [
              "\n",
              "  <div id=\"df-5602d555-d5cb-4bc6-9913-a971eb577388\" class=\"colab-df-container\">\n",
              "    <div>\n",
              "<style scoped>\n",
              "    .dataframe tbody tr th:only-of-type {\n",
              "        vertical-align: middle;\n",
              "    }\n",
              "\n",
              "    .dataframe tbody tr th {\n",
              "        vertical-align: top;\n",
              "    }\n",
              "\n",
              "    .dataframe thead th {\n",
              "        text-align: right;\n",
              "    }\n",
              "</style>\n",
              "<table border=\"1\" class=\"dataframe\">\n",
              "  <thead>\n",
              "    <tr style=\"text-align: right;\">\n",
              "      <th></th>\n",
              "      <th>date</th>\n",
              "      <th>FDX</th>\n",
              "      <th>SPY</th>\n",
              "      <th>RiskFreeRate</th>\n",
              "      <th>FED_INTEREST_RATE</th>\n",
              "      <th>BRENT</th>\n",
              "      <th>DURABLES</th>\n",
              "      <th>RETAILS SALES</th>\n",
              "      <th>CPI</th>\n",
              "      <th>UNEMPLOYMENT</th>\n",
              "    </tr>\n",
              "  </thead>\n",
              "  <tbody>\n",
              "    <tr>\n",
              "      <th>count</th>\n",
              "      <td>6497</td>\n",
              "      <td>6497.000000</td>\n",
              "      <td>6497.000000</td>\n",
              "      <td>6497.000000</td>\n",
              "      <td>6497.000000</td>\n",
              "      <td>6497.000000</td>\n",
              "      <td>6497.000000</td>\n",
              "      <td>6497.000000</td>\n",
              "      <td>6497.000000</td>\n",
              "      <td>6497.000000</td>\n",
              "    </tr>\n",
              "    <tr>\n",
              "      <th>mean</th>\n",
              "      <td>2012-10-01 02:13:25.664152576</td>\n",
              "      <td>0.000462</td>\n",
              "      <td>0.000314</td>\n",
              "      <td>0.000130</td>\n",
              "      <td>0.003624</td>\n",
              "      <td>0.000516</td>\n",
              "      <td>0.000074</td>\n",
              "      <td>0.000160</td>\n",
              "      <td>0.000100</td>\n",
              "      <td>0.000010</td>\n",
              "    </tr>\n",
              "    <tr>\n",
              "      <th>min</th>\n",
              "      <td>1999-11-02 00:00:00</td>\n",
              "      <td>-0.214038</td>\n",
              "      <td>-0.109424</td>\n",
              "      <td>0.000021</td>\n",
              "      <td>-0.772727</td>\n",
              "      <td>-0.474654</td>\n",
              "      <td>-0.014479</td>\n",
              "      <td>-0.007953</td>\n",
              "      <td>-0.000718</td>\n",
              "      <td>-0.009901</td>\n",
              "    </tr>\n",
              "    <tr>\n",
              "      <th>25%</th>\n",
              "      <td>2006-04-20 00:00:00</td>\n",
              "      <td>-0.009404</td>\n",
              "      <td>-0.004829</td>\n",
              "      <td>0.000088</td>\n",
              "      <td>0.000000</td>\n",
              "      <td>-0.011461</td>\n",
              "      <td>-0.002376</td>\n",
              "      <td>-0.001452</td>\n",
              "      <td>0.000008</td>\n",
              "      <td>-0.000784</td>\n",
              "    </tr>\n",
              "    <tr>\n",
              "      <th>50%</th>\n",
              "      <td>2012-09-28 00:00:00</td>\n",
              "      <td>0.000207</td>\n",
              "      <td>0.000633</td>\n",
              "      <td>0.000133</td>\n",
              "      <td>0.000000</td>\n",
              "      <td>0.000796</td>\n",
              "      <td>-0.000399</td>\n",
              "      <td>0.000093</td>\n",
              "      <td>0.000088</td>\n",
              "      <td>0.000000</td>\n",
              "    </tr>\n",
              "    <tr>\n",
              "      <th>75%</th>\n",
              "      <td>2019-03-18 00:00:00</td>\n",
              "      <td>0.010110</td>\n",
              "      <td>0.005994</td>\n",
              "      <td>0.000168</td>\n",
              "      <td>0.000000</td>\n",
              "      <td>0.012762</td>\n",
              "      <td>0.002131</td>\n",
              "      <td>0.001180</td>\n",
              "      <td>0.000202</td>\n",
              "      <td>0.000551</td>\n",
              "    </tr>\n",
              "    <tr>\n",
              "      <th>max</th>\n",
              "      <td>2025-09-02 00:00:00</td>\n",
              "      <td>0.155277</td>\n",
              "      <td>0.145198</td>\n",
              "      <td>0.000261</td>\n",
              "      <td>3.125000</td>\n",
              "      <td>0.509868</td>\n",
              "      <td>0.012806</td>\n",
              "      <td>0.014796</td>\n",
              "      <td>0.000703</td>\n",
              "      <td>0.030205</td>\n",
              "    </tr>\n",
              "    <tr>\n",
              "      <th>std</th>\n",
              "      <td>NaN</td>\n",
              "      <td>0.020052</td>\n",
              "      <td>0.012267</td>\n",
              "      <td>0.000051</td>\n",
              "      <td>0.096283</td>\n",
              "      <td>0.025829</td>\n",
              "      <td>0.003738</td>\n",
              "      <td>0.003269</td>\n",
              "      <td>0.000164</td>\n",
              "      <td>0.002345</td>\n",
              "    </tr>\n",
              "  </tbody>\n",
              "</table>\n",
              "</div>\n",
              "    <div class=\"colab-df-buttons\">\n",
              "\n",
              "  <div class=\"colab-df-container\">\n",
              "    <button class=\"colab-df-convert\" onclick=\"convertToInteractive('df-5602d555-d5cb-4bc6-9913-a971eb577388')\"\n",
              "            title=\"Convert this dataframe to an interactive table.\"\n",
              "            style=\"display:none;\">\n",
              "\n",
              "  <svg xmlns=\"http://www.w3.org/2000/svg\" height=\"24px\" viewBox=\"0 -960 960 960\">\n",
              "    <path d=\"M120-120v-720h720v720H120Zm60-500h600v-160H180v160Zm220 220h160v-160H400v160Zm0 220h160v-160H400v160ZM180-400h160v-160H180v160Zm440 0h160v-160H620v160ZM180-180h160v-160H180v160Zm440 0h160v-160H620v160Z\"/>\n",
              "  </svg>\n",
              "    </button>\n",
              "\n",
              "  <style>\n",
              "    .colab-df-container {\n",
              "      display:flex;\n",
              "      gap: 12px;\n",
              "    }\n",
              "\n",
              "    .colab-df-convert {\n",
              "      background-color: #E8F0FE;\n",
              "      border: none;\n",
              "      border-radius: 50%;\n",
              "      cursor: pointer;\n",
              "      display: none;\n",
              "      fill: #1967D2;\n",
              "      height: 32px;\n",
              "      padding: 0 0 0 0;\n",
              "      width: 32px;\n",
              "    }\n",
              "\n",
              "    .colab-df-convert:hover {\n",
              "      background-color: #E2EBFA;\n",
              "      box-shadow: 0px 1px 2px rgba(60, 64, 67, 0.3), 0px 1px 3px 1px rgba(60, 64, 67, 0.15);\n",
              "      fill: #174EA6;\n",
              "    }\n",
              "\n",
              "    .colab-df-buttons div {\n",
              "      margin-bottom: 4px;\n",
              "    }\n",
              "\n",
              "    [theme=dark] .colab-df-convert {\n",
              "      background-color: #3B4455;\n",
              "      fill: #D2E3FC;\n",
              "    }\n",
              "\n",
              "    [theme=dark] .colab-df-convert:hover {\n",
              "      background-color: #434B5C;\n",
              "      box-shadow: 0px 1px 3px 1px rgba(0, 0, 0, 0.15);\n",
              "      filter: drop-shadow(0px 1px 2px rgba(0, 0, 0, 0.3));\n",
              "      fill: #FFFFFF;\n",
              "    }\n",
              "  </style>\n",
              "\n",
              "    <script>\n",
              "      const buttonEl =\n",
              "        document.querySelector('#df-5602d555-d5cb-4bc6-9913-a971eb577388 button.colab-df-convert');\n",
              "      buttonEl.style.display =\n",
              "        google.colab.kernel.accessAllowed ? 'block' : 'none';\n",
              "\n",
              "      async function convertToInteractive(key) {\n",
              "        const element = document.querySelector('#df-5602d555-d5cb-4bc6-9913-a971eb577388');\n",
              "        const dataTable =\n",
              "          await google.colab.kernel.invokeFunction('convertToInteractive',\n",
              "                                                    [key], {});\n",
              "        if (!dataTable) return;\n",
              "\n",
              "        const docLinkHtml = 'Like what you see? Visit the ' +\n",
              "          '<a target=\"_blank\" href=https://colab.research.google.com/notebooks/data_table.ipynb>data table notebook</a>'\n",
              "          + ' to learn more about interactive tables.';\n",
              "        element.innerHTML = '';\n",
              "        dataTable['output_type'] = 'display_data';\n",
              "        await google.colab.output.renderOutput(dataTable, element);\n",
              "        const docLink = document.createElement('div');\n",
              "        docLink.innerHTML = docLinkHtml;\n",
              "        element.appendChild(docLink);\n",
              "      }\n",
              "    </script>\n",
              "  </div>\n",
              "\n",
              "\n",
              "    <div id=\"df-985e8824-0f09-4283-a401-1852f0744c7e\">\n",
              "      <button class=\"colab-df-quickchart\" onclick=\"quickchart('df-985e8824-0f09-4283-a401-1852f0744c7e')\"\n",
              "                title=\"Suggest charts\"\n",
              "                style=\"display:none;\">\n",
              "\n",
              "<svg xmlns=\"http://www.w3.org/2000/svg\" height=\"24px\"viewBox=\"0 0 24 24\"\n",
              "     width=\"24px\">\n",
              "    <g>\n",
              "        <path d=\"M19 3H5c-1.1 0-2 .9-2 2v14c0 1.1.9 2 2 2h14c1.1 0 2-.9 2-2V5c0-1.1-.9-2-2-2zM9 17H7v-7h2v7zm4 0h-2V7h2v10zm4 0h-2v-4h2v4z\"/>\n",
              "    </g>\n",
              "</svg>\n",
              "      </button>\n",
              "\n",
              "<style>\n",
              "  .colab-df-quickchart {\n",
              "      --bg-color: #E8F0FE;\n",
              "      --fill-color: #1967D2;\n",
              "      --hover-bg-color: #E2EBFA;\n",
              "      --hover-fill-color: #174EA6;\n",
              "      --disabled-fill-color: #AAA;\n",
              "      --disabled-bg-color: #DDD;\n",
              "  }\n",
              "\n",
              "  [theme=dark] .colab-df-quickchart {\n",
              "      --bg-color: #3B4455;\n",
              "      --fill-color: #D2E3FC;\n",
              "      --hover-bg-color: #434B5C;\n",
              "      --hover-fill-color: #FFFFFF;\n",
              "      --disabled-bg-color: #3B4455;\n",
              "      --disabled-fill-color: #666;\n",
              "  }\n",
              "\n",
              "  .colab-df-quickchart {\n",
              "    background-color: var(--bg-color);\n",
              "    border: none;\n",
              "    border-radius: 50%;\n",
              "    cursor: pointer;\n",
              "    display: none;\n",
              "    fill: var(--fill-color);\n",
              "    height: 32px;\n",
              "    padding: 0;\n",
              "    width: 32px;\n",
              "  }\n",
              "\n",
              "  .colab-df-quickchart:hover {\n",
              "    background-color: var(--hover-bg-color);\n",
              "    box-shadow: 0 1px 2px rgba(60, 64, 67, 0.3), 0 1px 3px 1px rgba(60, 64, 67, 0.15);\n",
              "    fill: var(--button-hover-fill-color);\n",
              "  }\n",
              "\n",
              "  .colab-df-quickchart-complete:disabled,\n",
              "  .colab-df-quickchart-complete:disabled:hover {\n",
              "    background-color: var(--disabled-bg-color);\n",
              "    fill: var(--disabled-fill-color);\n",
              "    box-shadow: none;\n",
              "  }\n",
              "\n",
              "  .colab-df-spinner {\n",
              "    border: 2px solid var(--fill-color);\n",
              "    border-color: transparent;\n",
              "    border-bottom-color: var(--fill-color);\n",
              "    animation:\n",
              "      spin 1s steps(1) infinite;\n",
              "  }\n",
              "\n",
              "  @keyframes spin {\n",
              "    0% {\n",
              "      border-color: transparent;\n",
              "      border-bottom-color: var(--fill-color);\n",
              "      border-left-color: var(--fill-color);\n",
              "    }\n",
              "    20% {\n",
              "      border-color: transparent;\n",
              "      border-left-color: var(--fill-color);\n",
              "      border-top-color: var(--fill-color);\n",
              "    }\n",
              "    30% {\n",
              "      border-color: transparent;\n",
              "      border-left-color: var(--fill-color);\n",
              "      border-top-color: var(--fill-color);\n",
              "      border-right-color: var(--fill-color);\n",
              "    }\n",
              "    40% {\n",
              "      border-color: transparent;\n",
              "      border-right-color: var(--fill-color);\n",
              "      border-top-color: var(--fill-color);\n",
              "    }\n",
              "    60% {\n",
              "      border-color: transparent;\n",
              "      border-right-color: var(--fill-color);\n",
              "    }\n",
              "    80% {\n",
              "      border-color: transparent;\n",
              "      border-right-color: var(--fill-color);\n",
              "      border-bottom-color: var(--fill-color);\n",
              "    }\n",
              "    90% {\n",
              "      border-color: transparent;\n",
              "      border-bottom-color: var(--fill-color);\n",
              "    }\n",
              "  }\n",
              "</style>\n",
              "\n",
              "      <script>\n",
              "        async function quickchart(key) {\n",
              "          const quickchartButtonEl =\n",
              "            document.querySelector('#' + key + ' button');\n",
              "          quickchartButtonEl.disabled = true;  // To prevent multiple clicks.\n",
              "          quickchartButtonEl.classList.add('colab-df-spinner');\n",
              "          try {\n",
              "            const charts = await google.colab.kernel.invokeFunction(\n",
              "                'suggestCharts', [key], {});\n",
              "          } catch (error) {\n",
              "            console.error('Error during call to suggestCharts:', error);\n",
              "          }\n",
              "          quickchartButtonEl.classList.remove('colab-df-spinner');\n",
              "          quickchartButtonEl.classList.add('colab-df-quickchart-complete');\n",
              "        }\n",
              "        (() => {\n",
              "          let quickchartButtonEl =\n",
              "            document.querySelector('#df-985e8824-0f09-4283-a401-1852f0744c7e button');\n",
              "          quickchartButtonEl.style.display =\n",
              "            google.colab.kernel.accessAllowed ? 'block' : 'none';\n",
              "        })();\n",
              "      </script>\n",
              "    </div>\n",
              "\n",
              "    </div>\n",
              "  </div>\n"
            ],
            "application/vnd.google.colaboratory.intrinsic+json": {
              "type": "dataframe",
              "summary": "{\n  \"name\": \"df\",\n  \"rows\": 8,\n  \"fields\": [\n    {\n      \"column\": \"date\",\n      \"properties\": {\n        \"dtype\": \"date\",\n        \"min\": \"1970-01-01 00:00:00.000006497\",\n        \"max\": \"2025-09-02 00:00:00\",\n        \"num_unique_values\": 7,\n        \"samples\": [\n          \"6497\",\n          \"2012-10-01 02:13:25.664152576\",\n          \"2019-03-18 00:00:00\"\n        ],\n        \"semantic_type\": \"\",\n        \"description\": \"\"\n      }\n    },\n    {\n      \"column\": \"FDX\",\n      \"properties\": {\n        \"dtype\": \"number\",\n        \"std\": 2297.038266519817,\n        \"min\": -0.21403817054717622,\n        \"max\": 6497.0,\n        \"num_unique_values\": 8,\n        \"samples\": [\n          0.0004615542546007448,\n          0.010110485720241869,\n          6497.0\n        ],\n        \"semantic_type\": \"\",\n        \"description\": \"\"\n      }\n    },\n    {\n      \"column\": \"SPY\",\n      \"properties\": {\n        \"dtype\": \"number\",\n        \"std\": 2297.033846598079,\n        \"min\": -0.10942373384821036,\n        \"max\": 6497.0,\n        \"num_unique_values\": 8,\n        \"samples\": [\n          0.0003142319170479823,\n          0.0059944277150818515,\n          6497.0\n        ],\n        \"semantic_type\": \"\",\n        \"description\": \"\"\n      }\n    },\n    {\n      \"column\": \"RiskFreeRate\",\n      \"properties\": {\n        \"dtype\": \"number\",\n        \"std\": 2297.0363357380497,\n        \"min\": 2.0581666907881768e-05,\n        \"max\": 6497.0,\n        \"num_unique_values\": 8,\n        \"samples\": [\n          0.00012964809573033553,\n          0.00016822353883316765,\n          6497.0\n        ],\n        \"semantic_type\": \"\",\n        \"description\": \"\"\n      }\n    },\n    {\n      \"column\": \"FED_INTEREST_RATE\",\n      \"properties\": {\n        \"dtype\": \"number\",\n        \"std\": 2296.9128207546073,\n        \"min\": -0.7727272727272727,\n        \"max\": 6497.0,\n        \"num_unique_values\": 6,\n        \"samples\": [\n          6497.0,\n          0.003623810919891435,\n          0.0962828306087561\n        ],\n        \"semantic_type\": \"\",\n        \"description\": \"\"\n      }\n    },\n    {\n      \"column\": \"BRENT\",\n      \"properties\": {\n        \"dtype\": \"number\",\n        \"std\": 2297.033178668849,\n        \"min\": -0.4746543778801844,\n        \"max\": 6497.0,\n        \"num_unique_values\": 8,\n        \"samples\": [\n          0.0005160361627215307,\n          0.012762490948587946,\n          6497.0\n        ],\n        \"semantic_type\": \"\",\n        \"description\": \"\"\n      }\n    },\n    {\n      \"column\": \"DURABLES\",\n      \"properties\": {\n        \"dtype\": \"number\",\n        \"std\": 2297.0363031852726,\n        \"min\": -0.014479243227809024,\n        \"max\": 6497.0,\n        \"num_unique_values\": 8,\n        \"samples\": [\n          7.41406599165709e-05,\n          0.002130705565491775,\n          6497.0\n        ],\n        \"semantic_type\": \"\",\n        \"description\": \"\"\n      }\n    },\n    {\n      \"column\": \"RETAILS SALES\",\n      \"properties\": {\n        \"dtype\": \"number\",\n        \"std\": 2297.035868862183,\n        \"min\": -0.007953104044661319,\n        \"max\": 6497.0,\n        \"num_unique_values\": 8,\n        \"samples\": [\n          0.000160423678570208,\n          0.0011798887954810322,\n          6497.0\n        ],\n        \"semantic_type\": \"\",\n        \"description\": \"\"\n      }\n    },\n    {\n      \"column\": \"CPI\",\n      \"properties\": {\n        \"dtype\": \"number\",\n        \"std\": 2297.036351054365,\n        \"min\": -0.0007180915266219445,\n        \"max\": 6497.0,\n        \"num_unique_values\": 8,\n        \"samples\": [\n          0.00010038066285708534,\n          0.00020150727441281546,\n          6497.0\n        ],\n        \"semantic_type\": \"\",\n        \"description\": \"\"\n      }\n    },\n    {\n      \"column\": \"UNEMPLOYMENT\",\n      \"properties\": {\n        \"dtype\": \"number\",\n        \"std\": 2297.0352460516297,\n        \"min\": -0.009900990099009799,\n        \"max\": 6497.0,\n        \"num_unique_values\": 8,\n        \"samples\": [\n          1.0059137539063146e-05,\n          0.000550964187327807,\n          6497.0\n        ],\n        \"semantic_type\": \"\",\n        \"description\": \"\"\n      }\n    }\n  ]\n}"
            }
          },
          "metadata": {},
          "execution_count": 8
        }
      ]
    },
    {
      "cell_type": "markdown",
      "source": [
        "## Data Exploration"
      ],
      "metadata": {
        "id": "l5dpAMV-edeK"
      }
    },
    {
      "cell_type": "code",
      "source": [
        "for column in df.columns:\n",
        "  if column != 'date':\n",
        "        sns.histplot(data=df, x=column)\n",
        "        print(f'\\n{column}\\nMean:{df[column].mean()}\\nStandard Deviation: {df[column].std()}')\n",
        "        plt.show()"
      ],
      "metadata": {
        "id": "nUte_yPEecvw",
        "colab": {
          "base_uri": "https://localhost:8080/",
          "height": 1000
        },
        "outputId": "a5dd31d7-1885-4f6b-c472-03eb4e49f124"
      },
      "execution_count": null,
      "outputs": [
        {
          "output_type": "stream",
          "name": "stdout",
          "text": [
            "\n",
            "FDX\n",
            "Mean:0.0004615542546007448\n",
            "Standard Deviation: 0.020051952145975358\n"
          ]
        },
        {
          "output_type": "display_data",
          "data": {
            "text/plain": [
              "<Figure size 640x480 with 1 Axes>"
            ],
            "image/png": "[encoded data removed]"
          },
          "metadata": {}
        },
        {
          "output_type": "stream",
          "name": "stdout",
          "text": [
            "\n",
            "SPY\n",
            "Mean:0.0003142319170479823\n",
            "Standard Deviation: 0.012266777072187391\n"
          ]
        },
        {
          "output_type": "display_data",
          "data": {
            "text/plain": [
              "<Figure size 640x480 with 1 Axes>"
            ],
            "image/png": "[encoded data removed]"
          },
          "metadata": {}
        },
        {
          "output_type": "stream",
          "name": "stdout",
          "text": [
            "\n",
            "RiskFreeRate\n",
            "Mean:0.00012964809573033553\n",
            "Standard Deviation: 5.0524247464868976e-05\n"
          ]
        },
        {
          "output_type": "display_data",
          "data": {
            "text/plain": [
              "<Figure size 640x480 with 1 Axes>"
            ],
            "image/png": "[encoded data removed]"
          },
          "metadata": {}
        },
        {
          "output_type": "stream",
          "name": "stdout",
          "text": [
            "\n",
            "FED_INTEREST_RATE\n",
            "Mean:0.003623810919891435\n",
            "Standard Deviation: 0.0962828306087561\n"
          ]
        },
        {
          "output_type": "display_data",
          "data": {
            "text/plain": [
              "<Figure size 640x480 with 1 Axes>"
            ],
            "image/png": "[encoded data removed]"
          },
          "metadata": {}
        },
        {
          "output_type": "stream",
          "name": "stdout",
          "text": [
            "\n",
            "BRENT\n",
            "Mean:0.0005160361627215307\n",
            "Standard Deviation: 0.025829087858088632\n"
          ]
        },
        {
          "output_type": "display_data",
          "data": {
            "text/plain": [
              "<Figure size 640x480 with 1 Axes>"
            ],
            "image/png": "[encoded data removed]"
          },
          "metadata": {}
        },
        {
          "output_type": "stream",
          "name": "stdout",
          "text": [
            "\n",
            "DURABLES\n",
            "Mean:7.41406599165709e-05\n",
            "Standard Deviation: 0.0037378468973194895\n"
          ]
        },
        {
          "output_type": "display_data",
          "data": {
            "text/plain": [
              "<Figure size 640x480 with 1 Axes>"
            ],
            "image/png": "[encoded data removed]"
          },
          "metadata": {}
        },
        {
          "output_type": "stream",
          "name": "stdout",
          "text": [
            "\n",
            "RETAILS SALES\n",
            "Mean:0.000160423678570208\n",
            "Standard Deviation: 0.0032691465837976323\n"
          ]
        },
        {
          "output_type": "display_data",
          "data": {
            "text/plain": [
              "<Figure size 640x480 with 1 Axes>"
            ],
            "image/png": "[encoded data removed]"
          },
          "metadata": {}
        },
        {
          "output_type": "stream",
          "name": "stdout",
          "text": [
            "\n",
            "CPI\n",
            "Mean:0.00010038066285708534\n",
            "Standard Deviation: 0.0001642574138935885\n"
          ]
        },
        {
          "output_type": "display_data",
          "data": {
            "text/plain": [
              "<Figure size 640x480 with 1 Axes>"
            ],
            "image/png": "[encoded data removed]"
          },
          "metadata": {}
        },
        {
          "output_type": "stream",
          "name": "stdout",
          "text": [
            "\n",
            "UNEMPLOYMENT\n",
            "Mean:1.0059137539063146e-05\n",
            "Standard Deviation: 0.0023448867507227674\n"
          ]
        },
        {
          "output_type": "display_data",
          "data": {
            "text/plain": [
              "<Figure size 640x480 with 1 Axes>"
            ],
            "image/png": "[encoded data removed]"
          },
          "metadata": {}
        }
      ]
    },
    {
      "cell_type": "markdown",
      "source": [
        "Most variables seem to follow a normal distribution, therefore, Student t-test will be our primary testing method due to the large sample size and/or continuous numerical data."
      ],
      "metadata": {
        "id": "EmagPPO2TD-a"
      }
    },
    {
      "cell_type": "markdown",
      "source": [
        "## Multiple linear regression\n",
        "\n",
        "Let's recall the equation for a simple linear equation:\n",
        "\n",
        "$y=a + βx$\n",
        "\n",
        "$\\beta=\\frac{cov(x,y)}{var(x)}=\\frac{(x_i-\\overline{x})(y_i-\\overline{y})}{(x_i-\\overline{x})²}$\n",
        "\n",
        "$a= y-βx$\n",
        "\n",
        "Another way to compute a linear regression is by Linear Algebra with the following equation:\n",
        "\n",
        "$(X^TX)^{-1}c=X^Ty$\n",
        "\n",
        "Where\n",
        "\n",
        "$X = \\begin{bmatrix}\n",
        "   1 & X_{11} & X_{12} & \\dots & X_{1k} \\\\\n",
        "   1 & X_{21} & X_{22}   & \\dots & X_{2k} \\\\\n",
        "   \\vdots & \\vdots & \\vdots & \\vdots & \\vdots\\\\\n",
        "   1 & X_{n1} & X_{n2}   & \\dots & X_{nk} \\\\\n",
        "   \\end{bmatrix}$\n",
        "\n",
        "which is an $n × (k+1)$ matrix composed of $n$ observations and $k$ independent factors (including a column of ones for the intercept).\n",
        "\n",
        "- $c$ is the vector of coefficients (intercept and slopes).\n",
        "- $y$ is the dependent variable, which in this case is the asset return minus the risk-free rate.\n",
        "\n",
        "\n",
        "Solving for $c$ we get:\n",
        "\n",
        "$c=(X^TX)^{-1}X^Ty$\n",
        "\n",
        "This formula provides the coefficients needed to compute a linear regression with one or more factors."
      ],
      "metadata": {
        "id": "mEbka2ESNFKp"
      }
    },
    {
      "cell_type": "code",
      "source": [
        "# Compute market and asset returns adjusted by risk\n",
        "df['FDX_adj']= df['FDX']-df['RiskFreeRate']\n",
        "df['SPY_adj'] = df['SPY'] - df['RiskFreeRate']\n",
        "\n",
        "# Compute the linear regression returning all factors coefficients and predicting future dependent values\n",
        "predictors = ['SPY_adj','FED_INTEREST_RATE', 'BRENT', 'DURABLES','RETAILS SALES', 'CPI','UNEMPLOYMENT']\n",
        "X = df[predictors]\n",
        "y = df['FDX_adj']\n",
        "\n",
        "def linear_regression(predictor_values,predicted_values):\n",
        "   if predictor_values.ndim == 1:\n",
        "     X = predictor_values.values.reshape(-1,1)\n",
        "   else:\n",
        "     X = predictor_values\n",
        "\n",
        "   X = np.hstack((np.ones((X.shape[0],1)),X))\n",
        "   y = predicted_values\n",
        "\n",
        "   coefficients = np.linalg.inv(X.T.dot(X)).dot(X.T).dot(y)\n",
        "   prediction = df['RiskFreeRate']+X[0:,1:].dot(coefficients[1:])\n",
        "\n",
        "   return coefficients,prediction\n",
        "\n",
        "coefficients, prediction = linear_regression(X,y)\n",
        "\n",
        "df['FDX_FORECAST'] = prediction\n",
        "print(coefficients, '\\n')\n",
        "display(df.head())"
      ],
      "metadata": {
        "id": "YTZR6ccNhAFs",
        "colab": {
          "base_uri": "https://localhost:8080/",
          "height": 261
        },
        "outputId": "1d6bc252-7f3e-4d30-be70-0b62bd0dc0db"
      },
      "execution_count": null,
      "outputs": [
        {
          "output_type": "stream",
          "name": "stdout",
          "text": [
            "[ 3.73961682e-04  1.00332390e+00  2.74287328e-03 -2.28119692e-02\n",
            " -4.84915784e-02  1.19027061e-01 -2.38863349e+00 -1.14093590e-01] \n",
            "\n"
          ]
        },
        {
          "output_type": "display_data",
          "data": {
            "text/plain": [
              "        date       FDX       SPY  RiskFreeRate  FED_INTEREST_RATE     BRENT  \\\n",
              "1 1999-11-02  0.007470 -0.007147      0.000233          -0.037175  0.030957   \n",
              "2 1999-11-03 -0.008850  0.006734      0.000232           0.005792  0.018198   \n",
              "3 1999-11-04 -0.016651  0.007610      0.000229           0.011516  0.011618   \n",
              "4 1999-11-05  0.027730  0.009842      0.000228          -0.024668  0.007067   \n",
              "5 1999-11-08  0.058023  0.000907      0.000229           0.017510  0.035965   \n",
              "\n",
              "   DURABLES  RETAILS SALES  CPI  UNEMPLOYMENT   FDX_adj   SPY_adj  \\\n",
              "1  0.004838       0.010286  0.0     -0.001161  0.007237 -0.007379   \n",
              "2  0.004814       0.010181  0.0     -0.001163 -0.009081  0.006502   \n",
              "3  0.004791       0.010078  0.0     -0.001164 -0.016880  0.007381   \n",
              "4  0.004768       0.009978  0.0     -0.001166  0.027502  0.009614   \n",
              "5  0.004746       0.009879  0.0     -0.001167  0.057794  0.000677   \n",
              "\n",
              "   FDX_FORECAST  \n",
              "1     -0.006857  \n",
              "2      0.007467  \n",
              "3      0.008502  \n",
              "4      0.010735  \n",
              "5      0.001215  "
            ],
            "text/html": [
              "\n",
              "  <div id=\"df-23bfac5b-ec3a-48db-907a-f09fd47f1998\" class=\"colab-df-container\">\n",
              "    <div>\n",
              "<style scoped>\n",
              "    .dataframe tbody tr th:only-of-type {\n",
              "        vertical-align: middle;\n",
              "    }\n",
              "\n",
              "    .dataframe tbody tr th {\n",
              "        vertical-align: top;\n",
              "    }\n",
              "\n",
              "    .dataframe thead th {\n",
              "        text-align: right;\n",
              "    }\n",
              "</style>\n",
              "<table border=\"1\" class=\"dataframe\">\n",
              "  <thead>\n",
              "    <tr style=\"text-align: right;\">\n",
              "      <th></th>\n",
              "      <th>date</th>\n",
              "      <th>FDX</th>\n",
              "      <th>SPY</th>\n",
              "      <th>RiskFreeRate</th>\n",
              "      <th>FED_INTEREST_RATE</th>\n",
              "      <th>BRENT</th>\n",
              "      <th>DURABLES</th>\n",
              "      <th>RETAILS SALES</th>\n",
              "      <th>CPI</th>\n",
              "      <th>UNEMPLOYMENT</th>\n",
              "      <th>FDX_adj</th>\n",
              "      <th>SPY_adj</th>\n",
              "      <th>FDX_FORECAST</th>\n",
              "    </tr>\n",
              "  </thead>\n",
              "  <tbody>\n",
              "    <tr>\n",
              "      <th>1</th>\n",
              "      <td>1999-11-02</td>\n",
              "      <td>0.007470</td>\n",
              "      <td>-0.007147</td>\n",
              "      <td>0.000233</td>\n",
              "      <td>-0.037175</td>\n",
              "      <td>0.030957</td>\n",
              "      <td>0.004838</td>\n",
              "      <td>0.010286</td>\n",
              "      <td>0.0</td>\n",
              "      <td>-0.001161</td>\n",
              "      <td>0.007237</td>\n",
              "      <td>-0.007379</td>\n",
              "      <td>-0.006857</td>\n",
              "    </tr>\n",
              "    <tr>\n",
              "      <th>2</th>\n",
              "      <td>1999-11-03</td>\n",
              "      <td>-0.008850</td>\n",
              "      <td>0.006734</td>\n",
              "      <td>0.000232</td>\n",
              "      <td>0.005792</td>\n",
              "      <td>0.018198</td>\n",
              "      <td>0.004814</td>\n",
              "      <td>0.010181</td>\n",
              "      <td>0.0</td>\n",
              "      <td>-0.001163</td>\n",
              "      <td>-0.009081</td>\n",
              "      <td>0.006502</td>\n",
              "      <td>0.007467</td>\n",
              "    </tr>\n",
              "    <tr>\n",
              "      <th>3</th>\n",
              "      <td>1999-11-04</td>\n",
              "      <td>-0.016651</td>\n",
              "      <td>0.007610</td>\n",
              "      <td>0.000229</td>\n",
              "      <td>0.011516</td>\n",
              "      <td>0.011618</td>\n",
              "      <td>0.004791</td>\n",
              "      <td>0.010078</td>\n",
              "      <td>0.0</td>\n",
              "      <td>-0.001164</td>\n",
              "      <td>-0.016880</td>\n",
              "      <td>0.007381</td>\n",
              "      <td>0.008502</td>\n",
              "    </tr>\n",
              "    <tr>\n",
              "      <th>4</th>\n",
              "      <td>1999-11-05</td>\n",
              "      <td>0.027730</td>\n",
              "      <td>0.009842</td>\n",
              "      <td>0.000228</td>\n",
              "      <td>-0.024668</td>\n",
              "      <td>0.007067</td>\n",
              "      <td>0.004768</td>\n",
              "      <td>0.009978</td>\n",
              "      <td>0.0</td>\n",
              "      <td>-0.001166</td>\n",
              "      <td>0.027502</td>\n",
              "      <td>0.009614</td>\n",
              "      <td>0.010735</td>\n",
              "    </tr>\n",
              "    <tr>\n",
              "      <th>5</th>\n",
              "      <td>1999-11-08</td>\n",
              "      <td>0.058023</td>\n",
              "      <td>0.000907</td>\n",
              "      <td>0.000229</td>\n",
              "      <td>0.017510</td>\n",
              "      <td>0.035965</td>\n",
              "      <td>0.004746</td>\n",
              "      <td>0.009879</td>\n",
              "      <td>0.0</td>\n",
              "      <td>-0.001167</td>\n",
              "      <td>0.057794</td>\n",
              "      <td>0.000677</td>\n",
              "      <td>0.001215</td>\n",
              "    </tr>\n",
              "  </tbody>\n",
              "</table>\n",
              "</div>\n",
              "    <div class=\"colab-df-buttons\">\n",
              "\n",
              "  <div class=\"colab-df-container\">\n",
              "    <button class=\"colab-df-convert\" onclick=\"convertToInteractive('df-23bfac5b-ec3a-48db-907a-f09fd47f1998')\"\n",
              "            title=\"Convert this dataframe to an interactive table.\"\n",
              "            style=\"display:none;\">\n",
              "\n",
              "  <svg xmlns=\"http://www.w3.org/2000/svg\" height=\"24px\" viewBox=\"0 -960 960 960\">\n",
              "    <path d=\"M120-120v-720h720v720H120Zm60-500h600v-160H180v160Zm220 220h160v-160H400v160Zm0 220h160v-160H400v160ZM180-400h160v-160H180v160Zm440 0h160v-160H620v160ZM180-180h160v-160H180v160Zm440 0h160v-160H620v160Z\"/>\n",
              "  </svg>\n",
              "    </button>\n",
              "\n",
              "  <style>\n",
              "    .colab-df-container {\n",
              "      display:flex;\n",
              "      gap: 12px;\n",
              "    }\n",
              "\n",
              "    .colab-df-convert {\n",
              "      background-color: #E8F0FE;\n",
              "      border: none;\n",
              "      border-radius: 50%;\n",
              "      cursor: pointer;\n",
              "      display: none;\n",
              "      fill: #1967D2;\n",
              "      height: 32px;\n",
              "      padding: 0 0 0 0;\n",
              "      width: 32px;\n",
              "    }\n",
              "\n",
              "    .colab-df-convert:hover {\n",
              "      background-color: #E2EBFA;\n",
              "      box-shadow: 0px 1px 2px rgba(60, 64, 67, 0.3), 0px 1px 3px 1px rgba(60, 64, 67, 0.15);\n",
              "      fill: #174EA6;\n",
              "    }\n",
              "\n",
              "    .colab-df-buttons div {\n",
              "      margin-bottom: 4px;\n",
              "    }\n",
              "\n",
              "    [theme=dark] .colab-df-convert {\n",
              "      background-color: #3B4455;\n",
              "      fill: #D2E3FC;\n",
              "    }\n",
              "\n",
              "    [theme=dark] .colab-df-convert:hover {\n",
              "      background-color: #434B5C;\n",
              "      box-shadow: 0px 1px 3px 1px rgba(0, 0, 0, 0.15);\n",
              "      filter: drop-shadow(0px 1px 2px rgba(0, 0, 0, 0.3));\n",
              "      fill: #FFFFFF;\n",
              "    }\n",
              "  </style>\n",
              "\n",
              "    <script>\n",
              "      const buttonEl =\n",
              "        document.querySelector('#df-23bfac5b-ec3a-48db-907a-f09fd47f1998 button.colab-df-convert');\n",
              "      buttonEl.style.display =\n",
              "        google.colab.kernel.accessAllowed ? 'block' : 'none';\n",
              "\n",
              "      async function convertToInteractive(key) {\n",
              "        const element = document.querySelector('#df-23bfac5b-ec3a-48db-907a-f09fd47f1998');\n",
              "        const dataTable =\n",
              "          await google.colab.kernel.invokeFunction('convertToInteractive',\n",
              "                                                    [key], {});\n",
              "        if (!dataTable) return;\n",
              "\n",
              "        const docLinkHtml = 'Like what you see? Visit the ' +\n",
              "          '<a target=\"_blank\" href=https://colab.research.google.com/notebooks/data_table.ipynb>data table notebook</a>'\n",
              "          + ' to learn more about interactive tables.';\n",
              "        element.innerHTML = '';\n",
              "        dataTable['output_type'] = 'display_data';\n",
              "        await google.colab.output.renderOutput(dataTable, element);\n",
              "        const docLink = document.createElement('div');\n",
              "        docLink.innerHTML = docLinkHtml;\n",
              "        element.appendChild(docLink);\n",
              "      }\n",
              "    </script>\n",
              "  </div>\n",
              "\n",
              "\n",
              "    <div id=\"df-1909566c-7b94-4798-95ca-56e21d3876a2\">\n",
              "      <button class=\"colab-df-quickchart\" onclick=\"quickchart('df-1909566c-7b94-4798-95ca-56e21d3876a2')\"\n",
              "                title=\"Suggest charts\"\n",
              "                style=\"display:none;\">\n",
              "\n",
              "<svg xmlns=\"http://www.w3.org/2000/svg\" height=\"24px\"viewBox=\"0 0 24 24\"\n",
              "     width=\"24px\">\n",
              "    <g>\n",
              "        <path d=\"M19 3H5c-1.1 0-2 .9-2 2v14c0 1.1.9 2 2 2h14c1.1 0 2-.9 2-2V5c0-1.1-.9-2-2-2zM9 17H7v-7h2v7zm4 0h-2V7h2v10zm4 0h-2v-4h2v4z\"/>\n",
              "    </g>\n",
              "</svg>\n",
              "      </button>\n",
              "\n",
              "<style>\n",
              "  .colab-df-quickchart {\n",
              "      --bg-color: #E8F0FE;\n",
              "      --fill-color: #1967D2;\n",
              "      --hover-bg-color: #E2EBFA;\n",
              "      --hover-fill-color: #174EA6;\n",
              "      --disabled-fill-color: #AAA;\n",
              "      --disabled-bg-color: #DDD;\n",
              "  }\n",
              "\n",
              "  [theme=dark] .colab-df-quickchart {\n",
              "      --bg-color: #3B4455;\n",
              "      --fill-color: #D2E3FC;\n",
              "      --hover-bg-color: #434B5C;\n",
              "      --hover-fill-color: #FFFFFF;\n",
              "      --disabled-bg-color: #3B4455;\n",
              "      --disabled-fill-color: #666;\n",
              "  }\n",
              "\n",
              "  .colab-df-quickchart {\n",
              "    background-color: var(--bg-color);\n",
              "    border: none;\n",
              "    border-radius: 50%;\n",
              "    cursor: pointer;\n",
              "    display: none;\n",
              "    fill: var(--fill-color);\n",
              "    height: 32px;\n",
              "    padding: 0;\n",
              "    width: 32px;\n",
              "  }\n",
              "\n",
              "  .colab-df-quickchart:hover {\n",
              "    background-color: var(--hover-bg-color);\n",
              "    box-shadow: 0 1px 2px rgba(60, 64, 67, 0.3), 0 1px 3px 1px rgba(60, 64, 67, 0.15);\n",
              "    fill: var(--button-hover-fill-color);\n",
              "  }\n",
              "\n",
              "  .colab-df-quickchart-complete:disabled,\n",
              "  .colab-df-quickchart-complete:disabled:hover {\n",
              "    background-color: var(--disabled-bg-color);\n",
              "    fill: var(--disabled-fill-color);\n",
              "    box-shadow: none;\n",
              "  }\n",
              "\n",
              "  .colab-df-spinner {\n",
              "    border: 2px solid var(--fill-color);\n",
              "    border-color: transparent;\n",
              "    border-bottom-color: var(--fill-color);\n",
              "    animation:\n",
              "      spin 1s steps(1) infinite;\n",
              "  }\n",
              "\n",
              "  @keyframes spin {\n",
              "    0% {\n",
              "      border-color: transparent;\n",
              "      border-bottom-color: var(--fill-color);\n",
              "      border-left-color: var(--fill-color);\n",
              "    }\n",
              "    20% {\n",
              "      border-color: transparent;\n",
              "      border-left-color: var(--fill-color);\n",
              "      border-top-color: var(--fill-color);\n",
              "    }\n",
              "    30% {\n",
              "      border-color: transparent;\n",
              "      border-left-color: var(--fill-color);\n",
              "      border-top-color: var(--fill-color);\n",
              "      border-right-color: var(--fill-color);\n",
              "    }\n",
              "    40% {\n",
              "      border-color: transparent;\n",
              "      border-right-color: var(--fill-color);\n",
              "      border-top-color: var(--fill-color);\n",
              "    }\n",
              "    60% {\n",
              "      border-color: transparent;\n",
              "      border-right-color: var(--fill-color);\n",
              "    }\n",
              "    80% {\n",
              "      border-color: transparent;\n",
              "      border-right-color: var(--fill-color);\n",
              "      border-bottom-color: var(--fill-color);\n",
              "    }\n",
              "    90% {\n",
              "      border-color: transparent;\n",
              "      border-bottom-color: var(--fill-color);\n",
              "    }\n",
              "  }\n",
              "</style>\n",
              "\n",
              "      <script>\n",
              "        async function quickchart(key) {\n",
              "          const quickchartButtonEl =\n",
              "            document.querySelector('#' + key + ' button');\n",
              "          quickchartButtonEl.disabled = true;  // To prevent multiple clicks.\n",
              "          quickchartButtonEl.classList.add('colab-df-spinner');\n",
              "          try {\n",
              "            const charts = await google.colab.kernel.invokeFunction(\n",
              "                'suggestCharts', [key], {});\n",
              "          } catch (error) {\n",
              "            console.error('Error during call to suggestCharts:', error);\n",
              "          }\n",
              "          quickchartButtonEl.classList.remove('colab-df-spinner');\n",
              "          quickchartButtonEl.classList.add('colab-df-quickchart-complete');\n",
              "        }\n",
              "        (() => {\n",
              "          let quickchartButtonEl =\n",
              "            document.querySelector('#df-1909566c-7b94-4798-95ca-56e21d3876a2 button');\n",
              "          quickchartButtonEl.style.display =\n",
              "            google.colab.kernel.accessAllowed ? 'block' : 'none';\n",
              "        })();\n",
              "      </script>\n",
              "    </div>\n",
              "\n",
              "    </div>\n",
              "  </div>\n"
            ],
            "application/vnd.google.colaboratory.intrinsic+json": {
              "type": "dataframe",
              "summary": "{\n  \"name\": \"display(df\",\n  \"rows\": 5,\n  \"fields\": [\n    {\n      \"column\": \"date\",\n      \"properties\": {\n        \"dtype\": \"date\",\n        \"min\": \"1999-11-02 00:00:00\",\n        \"max\": \"1999-11-08 00:00:00\",\n        \"num_unique_values\": 5,\n        \"samples\": [\n          \"1999-11-03 00:00:00\",\n          \"1999-11-08 00:00:00\",\n          \"1999-11-04 00:00:00\"\n        ],\n        \"semantic_type\": \"\",\n        \"description\": \"\"\n      }\n    },\n    {\n      \"column\": \"FDX\",\n      \"properties\": {\n        \"dtype\": \"number\",\n        \"std\": 0.030123486942105586,\n        \"min\": -0.016650579150579103,\n        \"max\": 0.05802292263610309,\n        \"num_unique_values\": 5,\n        \"samples\": [\n          -0.008849557522124019,\n          0.05802292263610309,\n          -0.016650579150579103\n        ],\n        \"semantic_type\": \"\",\n        \"description\": \"\"\n      }\n    },\n    {\n      \"column\": \"SPY\",\n      \"properties\": {\n        \"dtype\": \"number\",\n        \"std\": 0.006848570203922596,\n        \"min\": -0.007146519133241047,\n        \"max\": 0.009842438944358323,\n        \"num_unique_values\": 5,\n        \"samples\": [\n          0.006733598972314292,\n          0.0009066183136898776,\n          0.007610332103321182\n        ],\n        \"semantic_type\": \"\",\n        \"description\": \"\"\n      }\n    },\n    {\n      \"column\": \"RiskFreeRate\",\n      \"properties\": {\n        \"dtype\": \"number\",\n        \"std\": 1.8461713812232995e-06,\n        \"min\": 0.0002282558329096407,\n        \"max\": 0.0002327500798466886,\n        \"num_unique_values\": 4,\n        \"samples\": [\n          0.0002316269932034487,\n          0.0002282558329096407,\n          0.0002327500798466886\n        ],\n        \"semantic_type\": \"\",\n        \"description\": \"\"\n      }\n    },\n    {\n      \"column\": \"FED_INTEREST_RATE\",\n      \"properties\": {\n        \"dtype\": \"number\",\n        \"std\": 0.024068408234150594,\n        \"min\": -0.03717472118959109,\n        \"max\": 0.017509727626459304,\n        \"num_unique_values\": 5,\n        \"samples\": [\n          0.005791505791505891,\n          0.017509727626459304,\n          0.011516314779270509\n        ],\n        \"semantic_type\": \"\",\n        \"description\": \"\"\n      }\n    },\n    {\n      \"column\": \"BRENT\",\n      \"properties\": {\n        \"dtype\": \"number\",\n        \"std\": 0.012377464869728991,\n        \"min\": 0.007067137809187329,\n        \"max\": 0.035964912280701755,\n        \"num_unique_values\": 5,\n        \"samples\": [\n          0.018198362147406666,\n          0.035964912280701755,\n          0.011617515638963516\n        ],\n        \"semantic_type\": \"\",\n        \"description\": \"\"\n      }\n    },\n    {\n      \"column\": \"DURABLES\",\n      \"properties\": {\n        \"dtype\": \"number\",\n        \"std\": 3.629981923991284e-05,\n        \"min\": 0.004745751522799546,\n        \"max\": 0.004837583397908629,\n        \"num_unique_values\": 5,\n        \"samples\": [\n          0.004814293849907614,\n          0.004745751522799546,\n          0.004791227472951132\n        ],\n        \"semantic_type\": \"\",\n        \"description\": \"\"\n      }\n    },\n    {\n      \"column\": \"RETAILS SALES\",\n      \"properties\": {\n        \"dtype\": \"number\",\n        \"std\": 0.00016066467347397855,\n        \"min\": 0.009879113004955808,\n        \"max\": 0.010285561919026076,\n        \"num_unique_values\": 5,\n        \"samples\": [\n          0.01018084619509807,\n          0.009879113004955808,\n          0.010078241171810998\n        ],\n        \"semantic_type\": \"\",\n        \"description\": \"\"\n      }\n    },\n    {\n      \"column\": \"CPI\",\n      \"properties\": {\n        \"dtype\": \"number\",\n        \"std\": 0.0,\n        \"min\": 0.0,\n        \"max\": 0.0,\n        \"num_unique_values\": 1,\n        \"samples\": [\n          0.0\n        ],\n        \"semantic_type\": \"\",\n        \"description\": \"\"\n      }\n    },\n    {\n      \"column\": \"UNEMPLOYMENT\",\n      \"properties\": {\n        \"dtype\": \"number\",\n        \"std\": 2.142821966767049e-06,\n        \"min\": -0.001166861143523934,\n        \"max\": -0.0011614401858304202,\n        \"num_unique_values\": 5,\n        \"samples\": [\n          -0.0011627906976744429\n        ],\n        \"semantic_type\": \"\",\n        \"description\": \"\"\n      }\n    },\n    {\n      \"column\": \"FDX_adj\",\n      \"properties\": {\n        \"dtype\": \"number\",\n        \"std\": 0.030124206862366734,\n        \"min\": -0.016879959020493107,\n        \"max\": 0.05779354276618909,\n        \"num_unique_values\": 5,\n        \"samples\": [\n          -0.009081184515327467\n        ],\n        \"semantic_type\": \"\",\n        \"description\": \"\"\n      }\n    },\n    {\n      \"column\": \"SPY_adj\",\n      \"properties\": {\n        \"dtype\": \"number\",\n        \"std\": 0.006849889764132251,\n        \"min\": -0.007379269213087736,\n        \"max\": 0.009614183111448682,\n        \"num_unique_values\": 5,\n        \"samples\": [\n          0.006501971979110843\n        ],\n        \"semantic_type\": \"\",\n        \"description\": \"\"\n      }\n    },\n    {\n      \"column\": \"FDX_FORECAST\",\n      \"properties\": {\n        \"dtype\": \"number\",\n        \"std\": 0.007124702209374732,\n        \"min\": -0.006857008257565532,\n        \"max\": 0.010734883424588648,\n        \"num_unique_values\": 5,\n        \"samples\": [\n          0.007466966216609126\n        ],\n        \"semantic_type\": \"\",\n        \"description\": \"\"\n      }\n    }\n  ]\n}"
            }
          },
          "metadata": {}
        }
      ]
    },
    {
      "cell_type": "code",
      "source": [
        "plt.figure(figsize=(12, 6))\n",
        "sns.set_style(\"whitegrid\")\n",
        "\n",
        "sns.lineplot(x=df['date'],y=df['FDX_FORECAST'], label='FedEx Expected Returns', color='blue', linewidth=2,alpha=0.5)\n",
        "sns.lineplot(x=df['date'],y=df['FDX'], label='FedEx Actual Returns', color='red', alpha=0.4)\n",
        "\n",
        "plt.title('Predicted vs Actual Returns', fontsize=15)\n",
        "plt.xlabel('Date', fontsize=12)\n",
        "plt.ylabel('Returns', fontsize=12)\n",
        "plt.legend()\n",
        "\n",
        "plt.tight_layout()\n",
        "plt.show()"
      ],
      "metadata": {
        "id": "N6I-kLSSnCNi",
        "colab": {
          "base_uri": "https://localhost:8080/",
          "height": 607
        },
        "outputId": "977ba909-58a7-4954-e59b-42d40f7265be"
      },
      "execution_count": null,
      "outputs": [
        {
          "output_type": "display_data",
          "data": {
            "text/plain": [
              "<Figure size 1200x600 with 1 Axes>"
            ],
            "image/png": "[encoded data removed]"
          },
          "metadata": {}
        }
      ]
    },
    {
      "cell_type": "markdown",
      "source": [
        "## Model Evaluation\n",
        "\n",
        "In this section relevant metrics for evaluating the linear model will be computed. These metrics include:\n",
        "\n",
        "$R²=1-\\frac{SSR}{SST}$\n",
        "\n",
        "where\n",
        "\n",
        "$SSR=\\sum_{i=1}^{n}(y_i-\\hat{y})$\n",
        "and\n",
        "$SST=\\sum_{i=1}^{n}(y_i-\\overline{y})$\n",
        "\n",
        "\n",
        "Let us also remember the error measures:\n",
        "\n",
        "Mean Absolute Error or $MAE=\\frac{1}{n}\\sum_i^n|y-\\hat{y}|$\n",
        "\n",
        "Mean Square Error or $MSE= \\frac{SSR}{n} =\\frac{1}{n}\\sum_{i=1}^{n}(y_i-\\hat{y}) $\n",
        "\n",
        "Root Mean Square Error or $RMSE=\\sqrt{MSE}= \\sqrt{\\frac{1}{n}\\sum_{i=1}^{n}(y_i-\\hat{y})}$\n",
        "\n",
        "In addition to these metrics, it is recommended to evaluate the significance of each coefficient. This step is necessary to assess the impact of a given factor on the model and determine whether it should be retained or discarded. The purpose is to keep the model as simple as possible, avoiding overfitting, excessive resource use, and loss of interpretability.\n",
        "\n",
        "One such a metric is the adjusted R² coefficient which, unlike traditional R², can decrease when non significant factors are added. Adjusted R² is calculated as follows:\n",
        "\n",
        "$adj R²=1-\\frac{(1-R²)(N-1)}{N-1-k}$\n",
        "\n",
        "Where N is the number of observations and $k$ the number of explaining factors in the model.\n",
        "\n",
        "\n",
        "Another way to assess the importance of each factor is through hypothesis testing of each coefficient, using the Student's t-test. The test statistic is calculated as:\n",
        "\n",
        "$t= \\frac{β}{SE}$\n",
        "\n",
        "Where $\\beta$ is a vector of factor coefficients and $SE$ is the standard error of each coefficient.\n",
        "\n",
        "$SE= \\sqrt{diag(MSE(X^TX)^{-1})}$\n",
        "\n",
        "Finally, AIC and BIC are used to penalize the addition of too many factors in the model.\n",
        "\n",
        "Both AIC (Akaike Information Criterion) and BIC (Bayesian Information Criterion) compare the quality of different statistical models and select the best one, balancing between underfitting and overfitting. The following equations compute these metrics (the smaller the value, the better the model):\n",
        "\n",
        "$AIC = 2k -2log(LL)$\n",
        "\n",
        "$BIC=klog(n) - 2log(LL)$\n",
        "\n",
        "Where:\n",
        "\n",
        "$k$: is the number of factors in the model\n",
        "\n",
        "$n$: is the number of observations in the dataset\n",
        "\n",
        "$LL$: is the Likelihood of the fit\n",
        "\n",
        "Given that the likelihood approach can make this exercise too complex for our objectives, we will use the alternative formulas:\n",
        "\n",
        "$AIC = 2k +n*log(MSE)$\n",
        "\n",
        "$BIC = klog(n) +n*log(MSE)$\n"
      ],
      "metadata": {
        "id": "HTiuA2zEkMxs"
      }
    },
    {
      "cell_type": "code",
      "source": [
        "# Compute model evaluation metrics:\n",
        "\n",
        "def get_r2_coef(X, y):\n",
        "    coef, prediction = linear_regression(X,y)\n",
        "    SR = sum((y - prediction)**2)\n",
        "    St = sum((y - (y).mean())**2)\n",
        "    r_2 = 1-(SR/St)\n",
        "\n",
        "    return r_2\n",
        "\n",
        "def get_adj_r2_coef(X,y):\n",
        "  r2 = get_r2_coef(X,y)\n",
        "  p = X.shape[1]\n",
        "  n = len(y)\n",
        "  adj_r2 = 1-(((1-r2)*(n-1))/(n-1-p))\n",
        "  return adj_r2\n",
        "\n",
        "def get_errors(X,y):\n",
        "      coef, prediction = linear_regression(X,y)\n",
        "      n = len(y)\n",
        "      k = len(coef)\n",
        "      SR = float(((y-prediction)**2).sum())\n",
        "      MAE = float(abs(y-prediction).mean())\n",
        "      MSE = float(SR/(n-k))\n",
        "      RMSE = float(np.sqrt(MSE))\n",
        "\n",
        "      return {'SR':SR,'MAE':MAE,'MSE':MSE,'RMSE': RMSE}\n",
        "\n",
        "def coef_standard_error_tvalue(X,y):\n",
        "\n",
        "   n = len(y)\n",
        "   coefficients,prediction = linear_regression(X,y)\n",
        "   MSE = get_errors(X,y)['MSE']\n",
        "   columns = ['Intercept'] + [col for col in X.columns]\n",
        "\n",
        "   if X.ndim == 1:\n",
        "     X = X.values.reshape(-1,1)\n",
        "   else:\n",
        "     X = X.values\n",
        "\n",
        "   X = np.hstack((np.ones((X.shape[0],1)),X))\n",
        "\n",
        "   xtx = np.linalg.inv(X.T.dot(X))\n",
        "   cov_matrix = MSE* xtx\n",
        "\n",
        "\n",
        "   SE = np.sqrt(np.diag(cov_matrix))\n",
        "   t_score = coefficients/SE\n",
        "\n",
        "   se_dict = dict(zip(columns, [float(x) for x in SE]))\n",
        "   t_scores = dict(zip(columns, [float(x) for x in t_score]))\n",
        "\n",
        "   return (se_dict, t_scores)\n",
        "\n",
        "def AIC(X,y):\n",
        "  coefficients, prediction = linear_regression(X,y)\n",
        "  MSE = get_errors(y,prediction)['MSE']\n",
        "  k = len(coefficients)\n",
        "  n = len(y)\n",
        "  AIC = 2*k + n*np.log(MSE)\n",
        "  return AIC\n",
        "\n",
        "def BIC(X,y):\n",
        "  coefficients, prediction = linear_regression(X,y)\n",
        "  MSE = get_errors(y,prediction)['MSE']\n",
        "  k = len(coefficients)\n",
        "  n = len(y)\n",
        "  BIC = k*np.log(n)+ n*np.log(MSE)\n",
        "  return BIC\n",
        "\n",
        "\n",
        "r_2 = get_r2_coef(X,y)\n",
        "adj_r2 = get_adj_r2_coef(X,y)\n",
        "errors = get_errors(X, y)\n",
        "SE, t_scores = coef_standard_error_tvalue(X, y)\n",
        "get_aic = AIC(X,y)\n",
        "get_bic = BIC(X,y)\n",
        "\n",
        "print(f'R² Coeficient: {r_2}')\n",
        "\n",
        "print(f'Adjusted R² Coeficient: {adj_r2}\\n')\n",
        "\n",
        "print('Error Metrics')\n",
        "display(errors)\n",
        "\n",
        "print('\\nT-Statistics')\n",
        "display(t_scores)"
      ],
      "metadata": {
        "id": "I7L_CU17tMNV",
        "colab": {
          "base_uri": "https://localhost:8080/",
          "height": 346
        },
        "outputId": "8484b606-fbe2-4ad7-ace5-bdd83b87b3b6"
      },
      "execution_count": null,
      "outputs": [
        {
          "output_type": "stream",
          "name": "stdout",
          "text": [
            "R² Coeficient: 0.37212912531070397\n",
            "Adjusted R² Coeficient: 0.3714518104512765\n",
            "\n",
            "Error Metrics\n"
          ]
        },
        {
          "output_type": "display_data",
          "data": {
            "text/plain": [
              "{'SR': 1.6399847103789003,\n",
              " 'MAE': 0.010348152051709957,\n",
              " 'MSE': 0.00025273304212958855,\n",
              " 'RMSE': 0.015897579756981518}"
            ]
          },
          "metadata": {}
        },
        {
          "output_type": "stream",
          "name": "stdout",
          "text": [
            "\n",
            "T-Statistics\n"
          ]
        },
        {
          "output_type": "display_data",
          "data": {
            "text/plain": [
              "{'Intercept': 1.5960528079190008,\n",
              " 'SPY_adj': 61.44263057036438,\n",
              " 'FED_INTEREST_RATE': 1.33776650338585,\n",
              " 'BRENT': -2.9233136336849506,\n",
              " 'DURABLES': -0.8126687743262375,\n",
              " 'RETAILS SALES': 1.7493244984479592,\n",
              " 'CPI': -1.9221283076390094,\n",
              " 'UNEMPLOYMENT': -1.3124380494343066}"
            ]
          },
          "metadata": {}
        }
      ]
    },
    {
      "cell_type": "markdown",
      "source": [
        "Adjusted R² is approximately 0.37, which is slightly lower than the actual R² coeficient. This might indicate the presence of non-relevant features in the model, which can be addresed through hypothesis testing.\n",
        "\n",
        "The T-statistics below provide insight into which variables are significant. For example, if the absolute value of a T-statistic is below 1.96, it means that the variable is not significant at the 95% confidence level.\n",
        "\n",
        "Some may ask: \"Why bother with selecting variables? Just include them all.\" However, it is best to keep the model as simple as possible, not only to ease interpretation but also to improve computational efficiency.\n",
        "\n",
        "There are three common ways to perform variable selection:\n",
        "\n",
        "- **Forward Selection:** Start with one variable and keep adding significant variables step by step.\n",
        "- **Backward Elimination:** Start with all variables and iteratively remove the least significant ones.\n",
        "- **Stepwise Regression:** A combination of both forward selection and backward elimination, adding and removing variables as needed.\n",
        "\n",
        "In the next section, we will explore the Forward Selection method in detail.\n",
        "\n"
      ],
      "metadata": {
        "id": "q7Eq4AvL_roT"
      }
    },
    {
      "cell_type": "markdown",
      "source": [
        "## Forward Selection\n",
        "\n",
        "For any of our methods it is necessary to run the model with each independent variable separately and choose the best one as the first predictor. In this case we will add the predictor with the highest R² coeficient, provided this predictor is statistically significant.\n"
      ],
      "metadata": {
        "id": "xIDHPLwbMGQj"
      }
    },
    {
      "cell_type": "code",
      "source": [
        "def linear_model(X,y):\n",
        "    r2 = get_r2_coef(X,y)\n",
        "    adj_r2 = get_adj_r2_coef(X,y)\n",
        "    errors = get_errors(X,y)\n",
        "    SE, t_stat = coef_standard_error_tvalue(X,y)\n",
        "\n",
        "    errors = {k: v for k,v in errors.items()}\n",
        "    SE = {k: v for k,v in SE.items()}\n",
        "    t_stat = {k: v for k,v in t_stat.items()}\n",
        "\n",
        "\n",
        "    calc_aic = float(AIC(X,y))\n",
        "    calc_bic = float(BIC(X,y))\n",
        "\n",
        "    model = {'R2':r2, 'Adj_R2':adj_r2 , 'Errors': errors, 'Coefficient Errors':SE, 'T_stat': t_stat, 'AIC':calc_aic, 'BIC': calc_bic}\n",
        "    return model\n",
        "\n",
        "\n",
        "def model_significance(model):\n",
        "    model_significance = dict(adj_R2 = model['Adj_R2'],\n",
        "                              T_stat = model['T_stat'],\n",
        "                              AIC = model['AIC'],\n",
        "                              BIC = model['BIC'])\n",
        "\n",
        "    return model_significance"
      ],
      "metadata": {
        "id": "msD55CUpthFf"
      },
      "execution_count": null,
      "outputs": []
    },
    {
      "cell_type": "markdown",
      "source": [
        "The following code will choose the best predictor variable among all available variables for the model. Then, it will perform a hypothesis test to ascertain the significance of the variable. If the variable is significant at a 95% confidence level, it will be kept in the model, and a new model will be fitted by adding the next best variable. If the opposite is true, the process will end, and the final model will consist of the variables kept so far.\n",
        "\n",
        "First, we fit the model with each variable independently:"
      ],
      "metadata": {
        "id": "ZHOPTyZQwNGp"
      }
    },
    {
      "cell_type": "code",
      "source": [
        "predictors = ['SPY_adj','FED_INTEREST_RATE', 'BRENT', 'DURABLES','RETAILS SALES', 'CPI','UNEMPLOYMENT']\n",
        "X = df[predictors]\n",
        "\n",
        "def get_best_variable(X, y, fit=None):\n",
        "\n",
        "    kpis = []\n",
        "    for predictor in predictors:\n",
        "      lm = linear_model(X[[predictor]],y) if fit ==None else linear_model(X[fit + [predictor]],y)\n",
        "      model_kpi = model_significance(lm)\n",
        "      kpi = {predictor:model_kpi}\n",
        "      kpis.append(kpi)\n",
        "\n",
        "\n",
        "    variables = []\n",
        "    r2s = []\n",
        "\n",
        "    for kpi in kpis:\n",
        "      for k,v in kpi.items():\n",
        "        r2 = v['adj_R2']\n",
        "        r2s.append(r2)\n",
        "        variables.append(k)\n",
        "\n",
        "    best_variable = variables[r2s.index(max(r2s))]\n",
        "\n",
        "    for i in kpis:\n",
        "      if best_variable in i.keys():\n",
        "        significant = np.abs(i[best_variable]['T_stat'][best_variable]) > 1.96\n",
        "\n",
        "    return best_variable,significant\n",
        "\n",
        "best_variable,significant = get_best_variable(X=X,y=y)\n",
        "print('Highest R² Variable: '+best_variable)\n",
        "print('Variable is significant at 95% CL' if significant else 'Variable is not significant at 95% CL')\n",
        "\n",
        "\n",
        "predictors.remove(best_variable)\n",
        "fit = [best_variable]\n",
        "\n",
        "print('\\nModel fit')\n",
        "lm = linear_model(X[fit],y)\n",
        "lm"
      ],
      "metadata": {
        "id": "YxRQu-dZ-1PA",
        "colab": {
          "base_uri": "https://localhost:8080/"
        },
        "outputId": "982fdf3f-967e-47ad-aff7-f1bc4fb54d34"
      },
      "execution_count": null,
      "outputs": [
        {
          "output_type": "stream",
          "name": "stdout",
          "text": [
            "Highest R² Variable: SPY_adj\n",
            "Variable is significant at 95% CL\n",
            "\n",
            "Model fit\n"
          ]
        },
        {
          "output_type": "execute_result",
          "data": {
            "text/plain": [
              "{'R2': 0.3702419327568598,\n",
              " 'Adj_R2': 0.3701449723154059,\n",
              " 'Errors': {'SR': 1.6449140152067074,\n",
              "  'MAE': 0.010370475079424513,\n",
              "  'MSE': 0.0002532585088847894,\n",
              "  'RMSE': 0.0159140978030421},\n",
              " 'Coefficient Errors': {'Intercept': 0.00019745800866501762,\n",
              "  'SPY_adj': 0.016095365719546322},\n",
              " 'T_stat': {'Intercept': 0.7511681480167309, 'SPY_adj': 61.792475856863874},\n",
              " 'AIC': -60253.582508232386,\n",
              " 'BIC': -60240.02431661062}"
            ]
          },
          "metadata": {},
          "execution_count": 14
        }
      ]
    },
    {
      "cell_type": "markdown",
      "source": [
        "It seems that market risk is the most significant variable for predicting asset returns. The t-value is over 61, which makes it significant at well beyond the 95% confidence level, and it has an R² of 0.37. This suggests that market risk might be the only significant risk factor for our asset, more so than any other macroeconomic indicator."
      ],
      "metadata": {
        "id": "vAZhJFgYz7fJ"
      }
    },
    {
      "cell_type": "code",
      "source": [
        "best_variable,significant = get_best_variable(X=X,y=y,fit=fit)\n",
        "print('Highest R² Variable: '+best_variable)\n",
        "print('Variable is significant at 95% CL' if significant else 'Variable is not significant at 95% CL')\n",
        "\n",
        "predictors.remove(best_variable)\n",
        "fit.append(best_variable)\n",
        "\n",
        "print('\\nModel fit')\n",
        "lm = linear_model(X[fit],y)\n",
        "lm"
      ],
      "metadata": {
        "id": "R3TkHQRXIP4S",
        "colab": {
          "base_uri": "https://localhost:8080/"
        },
        "outputId": "b7e34000-2fe0-45d5-9f06-6193738add4a"
      },
      "execution_count": null,
      "outputs": [
        {
          "output_type": "stream",
          "name": "stdout",
          "text": [
            "Highest R² Variable: BRENT\n",
            "Variable is significant at 95% CL\n",
            "\n",
            "Model fit\n"
          ]
        },
        {
          "output_type": "execute_result",
          "data": {
            "text/plain": [
              "{'R2': 0.3711267762317476,\n",
              " 'Adj_R2': 0.3709330979983727,\n",
              " 'Errors': {'SR': 1.6426028238003332,\n",
              "  'MAE': 0.010365888779427415,\n",
              "  'MSE': 0.0002529416113027923,\n",
              "  'RMSE': 0.0159041381817058},\n",
              " 'Coefficient Errors': {'Intercept': 0.00019736516288059483,\n",
              "  'SPY_adj': 0.016329712700856605,\n",
              "  'BRENT': 0.007755818547220898},\n",
              " 'T_stat': {'Intercept': 0.8048811211523328,\n",
              "  'SPY_adj': 61.426921900979615,\n",
              "  'BRENT': -3.0238767620081037},\n",
              " 'AIC': -60245.286480099174,\n",
              " 'BIC': -60224.94919266653}"
            ]
          },
          "metadata": {},
          "execution_count": 15
        }
      ]
    },
    {
      "cell_type": "markdown",
      "source": [
        "The next variable added to the model is the percentage change of Brent oil prices. Notice that both AIC and BIC metrics have slightly increased with the addition of this new factor, indicating that we might be adding complexity to the model. Although both our R² and Adjusted R² have improved and errors have decreased, the overall metrics remain almost the same. It is the analyst's task to decide whether it is best to keep the model as is, collect more data to justify adding another variable, or continue adding predictors to achieve a better fit.\n",
        "\n",
        "The next feature selection method is Backward Elimination. In this approach, we start by running the model with all variables and then iteratively delete those whose removal improves the model quality."
      ],
      "metadata": {
        "id": "H-Isd0Q4JgiC"
      }
    },
    {
      "cell_type": "markdown",
      "source": [
        "##Backward Elimination\n",
        "\n",
        "\n",
        "This procedure is the opposite of the forward selection method. Here, we fit the model with all available variables and iteratively remove the least important one—typically the factor that contributes the least to R² and is not significant at the 95% confidence level.\n",
        "\n",
        "The following function selects the worst variable in the model and flags whether it is significant or not."
      ],
      "metadata": {
        "id": "3qnCiQEIODvQ"
      }
    },
    {
      "cell_type": "code",
      "source": [
        "predictors = ['SPY_adj','FED_INTEREST_RATE', 'BRENT', 'DURABLES','RETAILS SALES', 'CPI','UNEMPLOYMENT']\n",
        "X = df[predictors]\n",
        "\n",
        "def get_worst_variable(X,y):\n",
        "\n",
        "    lm = linear_model(X,y)\n",
        "    fullr2= lm['R2']\n",
        "\n",
        "    coef = []\n",
        "\n",
        "    for predictor in predictors:\n",
        "        predictors_temp = [p for p in predictors if p != predictor]\n",
        "        r2 = linear_model(X[predictors_temp], y)['R2']\n",
        "        coef.append(fullr2 - r2)\n",
        "\n",
        "\n",
        "    r2_predictor = dict(zip(predictors,coef))\n",
        "    min_r2 = min(r2_predictor, key=r2_predictor.get)\n",
        "    significant = np.abs(lm['T_stat'][min_r2]) >= 1.96\n",
        "\n",
        "    return min_r2, significant,r2_predictor\n",
        "\n",
        "\n",
        "lm = linear_model(X[predictors],y)\n",
        "lm"
      ],
      "metadata": {
        "id": "_v_DdJNsMgvu",
        "colab": {
          "base_uri": "https://localhost:8080/"
        },
        "outputId": "41b18bca-03e6-4a70-a8e3-c457b3515088"
      },
      "execution_count": null,
      "outputs": [
        {
          "output_type": "execute_result",
          "data": {
            "text/plain": [
              "{'R2': 0.37212912531070397,\n",
              " 'Adj_R2': 0.3714518104512765,\n",
              " 'Errors': {'SR': 1.6399847103789003,\n",
              "  'MAE': 0.010348152051709957,\n",
              "  'MSE': 0.00025273304212958855,\n",
              "  'RMSE': 0.015897579756981518},\n",
              " 'Coefficient Errors': {'Intercept': 0.00023430407794032172,\n",
              "  'SPY_adj': 0.01632944242994567,\n",
              "  'FED_INTEREST_RATE': 0.0020503378344636893,\n",
              "  'BRENT': 0.007803462810484709,\n",
              "  'DURABLES': 0.059669548005421985,\n",
              "  'RETAILS SALES': 0.06804172764706408,\n",
              "  'CPI': 1.24270241575617,\n",
              "  'UNEMPLOYMENT': 0.08693255275591551},\n",
              " 'T_stat': {'Intercept': 1.5960528079190008,\n",
              "  'SPY_adj': 61.44263057036438,\n",
              "  'FED_INTEREST_RATE': 1.33776650338585,\n",
              "  'BRENT': -2.9233136336849506,\n",
              "  'DURABLES': -0.8126687743262375,\n",
              "  'RETAILS SALES': 1.7493244984479592,\n",
              "  'CPI': -1.9221283076390094,\n",
              "  'UNEMPLOYMENT': -1.3124380494343066},\n",
              " 'AIC': -60225.430941574334,\n",
              " 'BIC': -60171.19817508729}"
            ]
          },
          "metadata": {},
          "execution_count": 20
        }
      ]
    },
    {
      "cell_type": "markdown",
      "source": [
        "Above, we have the model fit and evaluation metrics with every available variable included. At first glance, the factor 'DURABLES' has the lowest t-statistic and could be the first candidate to be removed from the model."
      ],
      "metadata": {
        "id": "MJyWONdw4L03"
      }
    },
    {
      "cell_type": "code",
      "source": [
        "worst_variable, significant,contribution = get_worst_variable(X,y)\n",
        "\n",
        "print('Lowest R² Variable: '+worst_variable)\n",
        "print('Variable is significant at 95% CL' if significant else 'Variable is not significant at 95% CL')\n",
        "\n",
        "predictors.remove(worst_variable)\n",
        "print('\\nModel fit')\n",
        "lm = linear_model(X[predictors],y)\n",
        "display(lm)\n",
        "\n",
        "print('\\nR² contribution by variable')\n",
        "display(contribution)"
      ],
      "metadata": {
        "colab": {
          "base_uri": "https://localhost:8080/",
          "height": 656
        },
        "id": "4zfc8AqDv-DE",
        "outputId": "58e77c63-c346-4da7-819a-40f03de04059"
      },
      "execution_count": null,
      "outputs": [
        {
          "output_type": "stream",
          "name": "stdout",
          "text": [
            "Lowest R² Variable: DURABLES\n",
            "Variable is not significant at 95% CL\n",
            "\n",
            "Model fit\n"
          ]
        },
        {
          "output_type": "display_data",
          "data": {
            "text/plain": [
              "{'R2': 0.3720449002598666,\n",
              " 'Adj_R2': 0.3714643562539435,\n",
              " 'Errors': {'SR': 1.6402047043317536,\n",
              "  'MAE': 0.010349566706806883,\n",
              "  'MSE': 0.0002527279975857864,\n",
              "  'RMSE': 0.0158974210985866},\n",
              " 'Coefficient Errors': {'Intercept': 0.00023346961778621114,\n",
              "  'SPY_adj': 0.016329257766624673,\n",
              "  'FED_INTEREST_RATE': 0.0020500784622894115,\n",
              "  'BRENT': 0.0078033667577895975,\n",
              "  'RETAILS SALES': 0.061688707244103566,\n",
              "  'CPI': 1.227005520148283,\n",
              "  'UNEMPLOYMENT': 0.08625761373532077},\n",
              " 'T_stat': {'Intercept': 1.6704322343112883,\n",
              "  'SPY_adj': 61.442000674490714,\n",
              "  'FED_INTEREST_RATE': 1.3503430538161438,\n",
              "  'BRENT': -2.925103561533598,\n",
              "  'RETAILS SALES': 1.551298590593865,\n",
              "  'CPI': -2.0770729995885806,\n",
              "  'UNEMPLOYMENT': -1.2209107093612177},\n",
              " 'AIC': -60227.500487245845,\n",
              " 'BIC': -60180.04681656968}"
            ]
          },
          "metadata": {}
        },
        {
          "output_type": "stream",
          "name": "stdout",
          "text": [
            "\n",
            "R² contribution by variable\n"
          ]
        },
        {
          "output_type": "display_data",
          "data": {
            "text/plain": [
              "{'SPY_adj': 0.3655471358004092,\n",
              " 'FED_INTEREST_RATE': 0.00018697776924114784,\n",
              " 'BRENT': 0.0008611230031668748,\n",
              " 'DURABLES': 8.422505083738319e-05,\n",
              " 'RETAILS SALES': 0.00037174849295962265,\n",
              " 'CPI': 0.00021070138366829916,\n",
              " 'UNEMPLOYMENT': 0.0001471883185002465}"
            ]
          },
          "metadata": {}
        }
      ]
    },
    {
      "cell_type": "markdown",
      "source": [
        "The DURABLES factor has the lowest R² contribution and is also not significant. Therefore, it will be removed from the model. There are other variables that, a priori, should also be considered for removal due to the low R² and lack of significance. By deleting factors in the model the AIC and BIC will decrease, meaning that the model is becoming simpler diminishing the risk of overfitting.\n",
        "\n",
        "It is also possible to fit the model multiple times to iteratively choose which predictors to remove following the backward elimination procedure. This process can be implemented by running the code as follows:"
      ],
      "metadata": {
        "id": "0cGm3EEvGRnf"
      }
    },
    {
      "cell_type": "code",
      "source": [
        "worst_variable, significant,contribution = get_worst_variable(X,y)\n",
        "\n",
        "print('Lowest R² Variable: '+worst_variable)\n",
        "print('Variable is significant at 95% CL' if significant else 'Variable is not significant at 95% CL')\n",
        "\n",
        "predictors.remove(worst_variable)\n",
        "print('\\nModel fit')\n",
        "lm = linear_model(X[predictors],y)\n",
        "display(lm)\n",
        "\n",
        "print('\\nR² contribution by variable')\n",
        "display(contribution)"
      ],
      "metadata": {
        "id": "0hQuSqryQeLP",
        "colab": {
          "base_uri": "https://localhost:8080/",
          "height": 602
        },
        "outputId": "238af630-5e2a-4df7-a7ac-d3b5bfda379f"
      },
      "execution_count": null,
      "outputs": [
        {
          "output_type": "stream",
          "name": "stdout",
          "text": [
            "Lowest R² Variable: UNEMPLOYMENT\n",
            "Variable is not significant at 95% CL\n",
            "\n",
            "Model fit\n"
          ]
        },
        {
          "output_type": "display_data",
          "data": {
            "text/plain": [
              "{'R2': 0.3719243567668471,\n",
              " 'Adj_R2': 0.37144055177282986,\n",
              " 'Errors': {'SR': 1.640519561244945,\n",
              "  'MAE': 0.010351617083867842,\n",
              "  'MSE': 0.000252737569133407,\n",
              "  'RMSE': 0.015897722136627216},\n",
              " 'Coefficient Errors': {'Intercept': 0.00023257658545013115,\n",
              "  'SPY_adj': 0.01632843783989106,\n",
              "  'FED_INTEREST_RATE': 0.0020495946078515504,\n",
              "  'BRENT': 0.007798346089472999,\n",
              "  'RETAILS SALES': 0.060727308353371354,\n",
              "  'CPI': 1.2145914388063108},\n",
              " 'T_stat': {'Intercept': 1.5694888010165131,\n",
              "  'SPY_adj': 61.459444168743715,\n",
              "  'FED_INTEREST_RATE': 1.3782358715107832,\n",
              "  'BRENT': -2.8825297013137003,\n",
              "  'RETAILS SALES': 1.7940948092823563,\n",
              "  'CPI': -1.9231371108195046},\n",
              " 'AIC': -60231.111016171155,\n",
              " 'BIC': -60190.43644130587}"
            ]
          },
          "metadata": {}
        },
        {
          "output_type": "stream",
          "name": "stdout",
          "text": [
            "\n",
            "R² contribution by variable\n"
          ]
        },
        {
          "output_type": "display_data",
          "data": {
            "text/plain": [
              "{'SPY_adj': 0.3656234677339556,\n",
              " 'FED_INTEREST_RATE': 0.00027598653491955893,\n",
              " 'BRENT': 0.0009486015276471971,\n",
              " 'RETAILS SALES': 0.0003732759271150021,\n",
              " 'CPI': 0.000334984124462423,\n",
              " 'UNEMPLOYMENT': 0.00020476854385687027}"
            ]
          },
          "metadata": {}
        }
      ]
    },
    {
      "cell_type": "code",
      "source": [
        "worst_variable, significant,contribution = get_worst_variable(X,y)\n",
        "\n",
        "print('Lowest R² Variable: '+worst_variable)\n",
        "print('Variable is significant at 95% CL' if significant else 'Variable is not significant at 95% CL')\n",
        "\n",
        "predictors.remove(worst_variable)\n",
        "print('\\nModel fit')\n",
        "lm = linear_model(X[predictors],y)\n",
        "display(lm)\n",
        "\n",
        "print('\\nR² contribution by variable')\n",
        "display(contribution)"
      ],
      "metadata": {
        "colab": {
          "base_uri": "https://localhost:8080/",
          "height": 547
        },
        "id": "zJwGvyYpzGRP",
        "outputId": "65e33889-f2ba-4208-ad6d-1c10b97456b1"
      },
      "execution_count": null,
      "outputs": [
        {
          "output_type": "stream",
          "name": "stdout",
          "text": [
            "Lowest R² Variable: FED_INTEREST_RATE\n",
            "Variable is not significant at 95% CL\n",
            "\n",
            "Model fit\n"
          ]
        },
        {
          "output_type": "display_data",
          "data": {
            "text/plain": [
              "{'R2': 0.3717268649921789,\n",
              " 'Adj_R2': 0.3713397589324082,\n",
              " 'Errors': {'SR': 1.641035405352289,\n",
              "  'MAE': 0.010350157811453353,\n",
              "  'MSE': 0.0002527780969427432,\n",
              "  'RMSE': 0.01589899672755307},\n",
              " 'Coefficient Errors': {'Intercept': 0.00023247302901031024,\n",
              "  'SPY_adj': 0.01632495371295336,\n",
              "  'BRENT': 0.0077973577284577095,\n",
              "  'RETAILS SALES': 0.060729499020149944,\n",
              "  'CPI': 1.2146887856091428},\n",
              " 'T_stat': {'Intercept': 1.6148784872405815,\n",
              "  'SPY_adj': 61.43916272721068,\n",
              "  'BRENT': -2.854856956220176,\n",
              "  'RETAILS SALES': 1.7810874492807838,\n",
              "  'CPI': -1.9233012060631003},\n",
              " 'AIC': -60234.18871649558,\n",
              " 'BIC': -60200.293237441176}"
            ]
          },
          "metadata": {}
        },
        {
          "output_type": "stream",
          "name": "stdout",
          "text": [
            "\n",
            "R² contribution by variable\n"
          ]
        },
        {
          "output_type": "display_data",
          "data": {
            "text/plain": [
              "{'SPY_adj': 0.3659264512545274,\n",
              " 'FED_INTEREST_RATE': 0.0004022603185250828,\n",
              " 'BRENT': 0.0010437361608998108,\n",
              " 'RETAILS SALES': 0.0005698748947770005,\n",
              " 'CPI': 0.0004250067181964523}"
            ]
          },
          "metadata": {}
        }
      ]
    },
    {
      "cell_type": "code",
      "source": [
        "worst_variable, significant,contribution = get_worst_variable(X,y)\n",
        "\n",
        "print('Lowest R² Variable: '+worst_variable)\n",
        "print('Variable is significant at 95% CL' if significant else 'Variable is not significant at 95% CL')\n",
        "\n",
        "predictors.remove(worst_variable)\n",
        "print('\\nModel fit')\n",
        "lm = linear_model(X[predictors],y)\n",
        "display(lm)\n",
        "\n",
        "print('\\nR² contribution by variable')\n",
        "display(contribution)"
      ],
      "metadata": {
        "colab": {
          "base_uri": "https://localhost:8080/",
          "height": 492
        },
        "id": "wGYBjcuNzLl4",
        "outputId": "f8e48abc-cc86-426c-f106-d0a027dbb481"
      },
      "execution_count": null,
      "outputs": [
        {
          "output_type": "stream",
          "name": "stdout",
          "text": [
            "Lowest R² Variable: CPI\n",
            "Variable is not significant at 95% CL\n",
            "\n",
            "Model fit\n"
          ]
        },
        {
          "output_type": "display_data",
          "data": {
            "text/plain": [
              "{'R2': 0.3715186923066467,\n",
              " 'Adj_R2': 0.37122831129277334,\n",
              " 'Errors': {'SR': 1.641579147760408,\n",
              "  'MAE': 0.010356289676866071,\n",
              "  'MSE': 0.0002528229089420003,\n",
              "  'RMSE': 0.01590040593639044},\n",
              " 'Coefficient Errors': {'Intercept': 0.00019755081521811432,\n",
              "  'SPY_adj': 0.016326259619486406,\n",
              "  'BRENT': 0.007756092460933863,\n",
              "  'RETAILS SALES': 0.06036625900026484},\n",
              " 'T_stat': {'Intercept': 0.7070060777299036,\n",
              "  'SPY_adj': 61.42625405583103,\n",
              "  'BRENT': -3.0703490499285055,\n",
              "  'RETAILS SALES': 2.0046577208350764},\n",
              " 'AIC': -60240.343323336616,\n",
              " 'BIC': -60213.226940093096}"
            ]
          },
          "metadata": {}
        },
        {
          "output_type": "stream",
          "name": "stdout",
          "text": [
            "\n",
            "R² contribution by variable\n"
          ]
        },
        {
          "output_type": "display_data",
          "data": {
            "text/plain": [
              "{'SPY_adj': 0.36592607990021175,\n",
              " 'BRENT': 0.0012264186632094942,\n",
              " 'RETAILS SALES': 0.000764431867367521,\n",
              " 'CPI': 0.0006104330040572759}"
            ]
          },
          "metadata": {}
        }
      ]
    },
    {
      "cell_type": "code",
      "source": [
        "worst_variable, significant,contribution = get_worst_variable(X,y)\n",
        "\n",
        "print('Lowest R² Variable: '+worst_variable)\n",
        "print('Variable is significant at 95% CL' if significant else 'Variable is not significant at 95% CL')\n",
        "\n",
        "predictors.remove(worst_variable)\n",
        "print('\\nModel fit')\n",
        "lm = linear_model(X[predictors],y)\n",
        "display(lm)\n",
        "\n",
        "print('\\nR² contribution by variable')\n",
        "display(contribution)"
      ],
      "metadata": {
        "colab": {
          "base_uri": "https://localhost:8080/",
          "height": 437
        },
        "id": "7PYzZBgxzQ-B",
        "outputId": "794e103b-8a0b-4184-fc23-44d42ed0256f"
      },
      "execution_count": null,
      "outputs": [
        {
          "output_type": "stream",
          "name": "stdout",
          "text": [
            "Lowest R² Variable: RETAILS SALES\n",
            "Variable is not significant at 95% CL\n",
            "\n",
            "Model fit\n"
          ]
        },
        {
          "output_type": "display_data",
          "data": {
            "text/plain": [
              "{'R2': 0.3711267762317476,\n",
              " 'Adj_R2': 0.3709330979983727,\n",
              " 'Errors': {'SR': 1.6426028238003332,\n",
              "  'MAE': 0.010365888779427415,\n",
              "  'MSE': 0.0002529416113027923,\n",
              "  'RMSE': 0.0159041381817058},\n",
              " 'Coefficient Errors': {'Intercept': 0.00019736516288059483,\n",
              "  'SPY_adj': 0.016329712700856605,\n",
              "  'BRENT': 0.007755818547220898},\n",
              " 'T_stat': {'Intercept': 0.8048811211523328,\n",
              "  'SPY_adj': 61.426921900979615,\n",
              "  'BRENT': -3.0238767620081037},\n",
              " 'AIC': -60245.286480099174,\n",
              " 'BIC': -60224.94919266653}"
            ]
          },
          "metadata": {}
        },
        {
          "output_type": "stream",
          "name": "stdout",
          "text": [
            "\n",
            "R² contribution by variable\n"
          ]
        },
        {
          "output_type": "display_data",
          "data": {
            "text/plain": [
              "{'SPY_adj': 0.36594017805910606,\n",
              " 'BRENT': 0.0015233256734057399,\n",
              " 'RETAILS SALES': 0.001002349078956355}"
            ]
          },
          "metadata": {}
        }
      ]
    },
    {
      "cell_type": "code",
      "source": [
        "worst_variable, significant,contribution = get_worst_variable(X,y)\n",
        "\n",
        "print('Lowest R² Variable: '+worst_variable)\n",
        "print('Variable is significant at 95% CL' if significant else 'Variable is not significant at 95% CL')\n",
        "\n",
        "predictors.remove(worst_variable)\n",
        "print('\\nModel fit')\n",
        "lm = linear_model(X[predictors],y)\n",
        "display(lm)\n",
        "\n",
        "print('\\nR² contribution by variable')\n",
        "display(contribution)"
      ],
      "metadata": {
        "colab": {
          "base_uri": "https://localhost:8080/",
          "height": 346
        },
        "id": "XijPVhxyzTl5",
        "outputId": "25f4e979-e610-4181-c0b7-edcdb29c9984"
      },
      "execution_count": null,
      "outputs": [
        {
          "output_type": "stream",
          "name": "stdout",
          "text": [
            "Lowest R² Variable: BRENT\n",
            "Variable is significant at 95% CL\n",
            "\n",
            "Model fit\n"
          ]
        },
        {
          "output_type": "display_data",
          "data": {
            "text/plain": [
              "{'R2': 0.3702419327568598,\n",
              " 'Adj_R2': 0.3701449723154059,\n",
              " 'Errors': {'SR': 1.6449140152067074,\n",
              "  'MAE': 0.010370475079424513,\n",
              "  'MSE': 0.0002532585088847894,\n",
              "  'RMSE': 0.0159140978030421},\n",
              " 'Coefficient Errors': {'Intercept': 0.00019745800866501762,\n",
              "  'SPY_adj': 0.016095365719546322},\n",
              " 'T_stat': {'Intercept': 0.7511681480167309, 'SPY_adj': 61.792475856863874},\n",
              " 'AIC': -60253.582508232386,\n",
              " 'BIC': -60240.02431661062}"
            ]
          },
          "metadata": {}
        },
        {
          "output_type": "stream",
          "name": "stdout",
          "text": [
            "\n",
            "R² contribution by variable\n"
          ]
        },
        {
          "output_type": "display_data",
          "data": {
            "text/plain": [
              "{'SPY_adj': 0.36652841105368894, 'BRENT': 0.0018871925538441747}"
            ]
          },
          "metadata": {}
        }
      ]
    },
    {
      "cell_type": "markdown",
      "source": [
        "After running the steps above, the model should retain only one factor: the **SPY_adj** variable. This means that market risk is the only relevant risk factor for FedEx returns—at least based on the given data."
      ],
      "metadata": {
        "id": "GvJx_WBQLT9G"
      }
    },
    {
      "cell_type": "markdown",
      "source": [
        "# Conclusion\n",
        "\n",
        "In this project, we demonstrated how to fit a multiple linear regression model from scratch to explain an asset’s return. New metrics were introduced to evaluate not only the model’s fit but also its complexity and risk of overfitting. Various hypothesis tests were performed to ascertain the significance of each variable. Finally, feature selection was carried out by choosing the best variables using either forward selection or backward elimination methods.\n",
        "\n",
        "While the model showed that market risk is the most significant predictor, the overall R² remained relatively low, and a fixed volatility assumption was made. This suggests limited explanatory power from other macroeconomic factors with the given data. The analysis underscores the importance of balancing model simplicity with statistical rigor to avoid overfitting.\n",
        "\n",
        "Future work could explore alternative modeling approaches or incorporate additional data to better capture complex relationships. Nevertheless, this project, along with the previous CAPM project, covered the most relevant topics related to linear regression. It has been a pleasure sharing this knowledge with you, and I hope you found it both useful and engaging."
      ],
      "metadata": {
        "id": "eFTU7H2jIxEp"
      }
    },
    {
      "cell_type": "markdown",
      "source": [
        "# Bibliography\n",
        "\n",
        "https://www.statology.org/standard-error-of-regression-slope/\n",
        "\n",
        "https://study.com/skill/learn/calculating-an-appropriate-test-statistic-and-p-value-for-the-slope-of-a-regression-model-explanation.html\n",
        "\n",
        "https://www.statology.org/standard-error-of-regression-slope/\n",
        "\n",
        "https://robjhyndman.com/hyndsight/lm_aic.html\n",
        "\n",
        "https://stats.stackexchange.com/questions/27916/standard-errors-for-multiple-regression-coefficients"
      ],
      "metadata": {
        "id": "qn9ThWh7yqsh"
      }
    }
  ]
}